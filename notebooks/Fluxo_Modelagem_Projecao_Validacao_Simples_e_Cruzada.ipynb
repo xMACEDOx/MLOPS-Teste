{
 "cells": [
  {
   "cell_type": "markdown",
   "metadata": {
    "id": "L2vudERBJTiT"
   },
   "source": [
    "# **FLUXO DE MODELAGEM DE PROJEÇÃO, COM VALIDAÇÃO SIMPLES + CRUZADA**\n",
    "### *Case: Potencial de Novos Clientes*\n",
    "---\n",
    "\n"
   ]
  },
  {
   "cell_type": "markdown",
   "metadata": {
    "id": "nGD5Csd2q7VV"
   },
   "source": [
    "### **Bibliotecas**"
   ]
  },
  {
   "cell_type": "code",
   "execution_count": 2,
   "metadata": {
    "id": "DY4aICW6q8Eb"
   },
   "outputs": [
    {
     "name": "stderr",
     "output_type": "stream",
     "text": [
      "Matplotlib is building the font cache; this may take a moment.\n"
     ]
    },
    {
     "ename": "ModuleNotFoundError",
     "evalue": "No module named 'xgboost'",
     "output_type": "error",
     "traceback": [
      "\u001b[0;31m---------------------------------------------------------------------------\u001b[0m",
      "\u001b[0;31mModuleNotFoundError\u001b[0m                       Traceback (most recent call last)",
      "Cell \u001b[0;32mIn[2], line 19\u001b[0m\n\u001b[1;32m     17\u001b[0m \u001b[38;5;28;01mfrom\u001b[39;00m \u001b[38;5;21;01msklearn\u001b[39;00m\u001b[38;5;21;01m.\u001b[39;00m\u001b[38;5;21;01mensemble\u001b[39;00m \u001b[38;5;28;01mimport\u001b[39;00m AdaBoostRegressor, GradientBoostingRegressor          \u001b[38;5;66;03m# Impulsionamento tradicional\u001b[39;00m\n\u001b[1;32m     18\u001b[0m \u001b[38;5;28;01mfrom\u001b[39;00m \u001b[38;5;21;01msklearn\u001b[39;00m\u001b[38;5;21;01m.\u001b[39;00m\u001b[38;5;21;01mensemble\u001b[39;00m \u001b[38;5;28;01mimport\u001b[39;00m HistGradientBoostingRegressor                         \u001b[38;5;66;03m# Impulsionamento com histogramas\u001b[39;00m\n\u001b[0;32m---> 19\u001b[0m \u001b[38;5;28;01mfrom\u001b[39;00m \u001b[38;5;21;01mxgboost\u001b[39;00m \u001b[38;5;28;01mimport\u001b[39;00m XGBRegressor                                                   \u001b[38;5;66;03m# Impulsionamento via XGBoost\u001b[39;00m\n\u001b[1;32m     20\u001b[0m \u001b[38;5;28;01mfrom\u001b[39;00m \u001b[38;5;21;01mlightgbm\u001b[39;00m \u001b[38;5;28;01mimport\u001b[39;00m LGBMRegressor                                                 \u001b[38;5;66;03m# Impulsionamento via LightGBM\u001b[39;00m\n\u001b[1;32m     21\u001b[0m \u001b[38;5;28;01mfrom\u001b[39;00m \u001b[38;5;21;01mcatboost\u001b[39;00m \u001b[38;5;28;01mimport\u001b[39;00m CatBoostRegressor                                             \u001b[38;5;66;03m# Impulsionamento via CatBoost\u001b[39;00m\n",
      "\u001b[0;31mModuleNotFoundError\u001b[0m: No module named 'xgboost'"
     ]
    }
   ],
   "source": [
    "import pandas as pd                                                                # Manipulação de dados\n",
    "import numpy as np                                                                 # Realização de cálculos específicos\n",
    "import matplotlib.pyplot as plt                                                    # Visualização de dados \n",
    "import seaborn as sns                                                              # Visualização de dados\n",
    "import time                                                                        # Cálculo de tempo de execução\n",
    "import math                                                                        # Funções matemáticas\n",
    "from scipy.stats import randint, uniform, loguniform                               # Geração de valores aleatórios\n",
    "from sklearn.compose import ColumnTransformer                                      # Transformação de colunas\n",
    "from sklearn.preprocessing import StandardScaler, OneHotEncoder                    # Transformação de colunas\n",
    "from sklearn.base import clone                                                     # Criação de cópias de modelos\n",
    "from sklearn.model_selection import train_test_split, KFold, RandomizedSearchCV    # Validação simples e validação cruzada\n",
    "from sklearn.metrics import r2_score, root_mean_squared_error                      # Métricas de avaliação de modelos\n",
    "from sklearn.linear_model import LinearRegression                                  # Regressão linear\n",
    "from sklearn.linear_model import Ridge, Lasso, ElasticNet, SGDRegressor            # Regressão linear com regularização\n",
    "from sklearn.tree import DecisionTreeRegressor                                     # Árvore de regressão\n",
    "from sklearn.ensemble import RandomForestRegressor                                 # Floresta aleatória\n",
    "from sklearn.ensemble import AdaBoostRegressor, GradientBoostingRegressor          # Impulsionamento tradicional\n",
    "from sklearn.ensemble import HistGradientBoostingRegressor                         # Impulsionamento com histogramas\n",
    "from xgboost import XGBRegressor                                                   # Impulsionamento via XGBoost\n",
    "from lightgbm import LGBMRegressor                                                 # Impulsionamento via LightGBM\n",
    "from catboost import CatBoostRegressor                                             # Impulsionamento via CatBoost\n",
    "from sklearn.neighbors import KNeighborsRegressor                                  # K vizinhos mais próximos\n",
    "from sklearn.inspection import permutation_importance                              # Importância de variáveis por permutação\n",
    "import shap                                                                        # Interpretabilidade de variáveis nos modelos"
   ]
  },
  {
   "cell_type": "markdown",
   "metadata": {
    "id": "fMKYTQt50PSk"
   },
   "source": [
    "### **Leitura da base de dados**"
   ]
  },
  {
   "cell_type": "code",
   "execution_count": 3,
   "metadata": {
    "id": "luxgNBQF0PSk"
   },
   "outputs": [
    {
     "ename": "FileNotFoundError",
     "evalue": "[Errno 2] No such file or directory: 'Potencial_Novos_Clientes.txt'",
     "output_type": "error",
     "traceback": [
      "\u001b[0;31m---------------------------------------------------------------------------\u001b[0m",
      "\u001b[0;31mFileNotFoundError\u001b[0m                         Traceback (most recent call last)",
      "Cell \u001b[0;32mIn[3], line 1\u001b[0m\n\u001b[0;32m----> 1\u001b[0m dados \u001b[38;5;241m=\u001b[39m pd\u001b[38;5;241m.\u001b[39mread_table(\u001b[38;5;124m\"\u001b[39m\u001b[38;5;124mPotencial_Novos_Clientes.txt\u001b[39m\u001b[38;5;124m\"\u001b[39m,\n\u001b[1;32m      2\u001b[0m                       sep\u001b[38;5;241m=\u001b[39m\u001b[38;5;124m\"\u001b[39m\u001b[38;5;130;01m\\t\u001b[39;00m\u001b[38;5;124m\"\u001b[39m,\n\u001b[1;32m      3\u001b[0m                       header\u001b[38;5;241m=\u001b[39m\u001b[38;5;241m0\u001b[39m)\n",
      "File \u001b[0;32m/opt/anaconda3/lib/python3.12/site-packages/pandas/io/parsers/readers.py:1405\u001b[0m, in \u001b[0;36mread_table\u001b[0;34m(filepath_or_buffer, sep, delimiter, header, names, index_col, usecols, dtype, engine, converters, true_values, false_values, skipinitialspace, skiprows, skipfooter, nrows, na_values, keep_default_na, na_filter, verbose, skip_blank_lines, parse_dates, infer_datetime_format, keep_date_col, date_parser, date_format, dayfirst, cache_dates, iterator, chunksize, compression, thousands, decimal, lineterminator, quotechar, quoting, doublequote, escapechar, comment, encoding, encoding_errors, dialect, on_bad_lines, delim_whitespace, low_memory, memory_map, float_precision, storage_options, dtype_backend)\u001b[0m\n\u001b[1;32m   1392\u001b[0m kwds_defaults \u001b[38;5;241m=\u001b[39m _refine_defaults_read(\n\u001b[1;32m   1393\u001b[0m     dialect,\n\u001b[1;32m   1394\u001b[0m     delimiter,\n\u001b[0;32m   (...)\u001b[0m\n\u001b[1;32m   1401\u001b[0m     dtype_backend\u001b[38;5;241m=\u001b[39mdtype_backend,\n\u001b[1;32m   1402\u001b[0m )\n\u001b[1;32m   1403\u001b[0m kwds\u001b[38;5;241m.\u001b[39mupdate(kwds_defaults)\n\u001b[0;32m-> 1405\u001b[0m \u001b[38;5;28;01mreturn\u001b[39;00m _read(filepath_or_buffer, kwds)\n",
      "File \u001b[0;32m/opt/anaconda3/lib/python3.12/site-packages/pandas/io/parsers/readers.py:620\u001b[0m, in \u001b[0;36m_read\u001b[0;34m(filepath_or_buffer, kwds)\u001b[0m\n\u001b[1;32m    617\u001b[0m _validate_names(kwds\u001b[38;5;241m.\u001b[39mget(\u001b[38;5;124m\"\u001b[39m\u001b[38;5;124mnames\u001b[39m\u001b[38;5;124m\"\u001b[39m, \u001b[38;5;28;01mNone\u001b[39;00m))\n\u001b[1;32m    619\u001b[0m \u001b[38;5;66;03m# Create the parser.\u001b[39;00m\n\u001b[0;32m--> 620\u001b[0m parser \u001b[38;5;241m=\u001b[39m TextFileReader(filepath_or_buffer, \u001b[38;5;241m*\u001b[39m\u001b[38;5;241m*\u001b[39mkwds)\n\u001b[1;32m    622\u001b[0m \u001b[38;5;28;01mif\u001b[39;00m chunksize \u001b[38;5;129;01mor\u001b[39;00m iterator:\n\u001b[1;32m    623\u001b[0m     \u001b[38;5;28;01mreturn\u001b[39;00m parser\n",
      "File \u001b[0;32m/opt/anaconda3/lib/python3.12/site-packages/pandas/io/parsers/readers.py:1620\u001b[0m, in \u001b[0;36mTextFileReader.__init__\u001b[0;34m(self, f, engine, **kwds)\u001b[0m\n\u001b[1;32m   1617\u001b[0m     \u001b[38;5;28mself\u001b[39m\u001b[38;5;241m.\u001b[39moptions[\u001b[38;5;124m\"\u001b[39m\u001b[38;5;124mhas_index_names\u001b[39m\u001b[38;5;124m\"\u001b[39m] \u001b[38;5;241m=\u001b[39m kwds[\u001b[38;5;124m\"\u001b[39m\u001b[38;5;124mhas_index_names\u001b[39m\u001b[38;5;124m\"\u001b[39m]\n\u001b[1;32m   1619\u001b[0m \u001b[38;5;28mself\u001b[39m\u001b[38;5;241m.\u001b[39mhandles: IOHandles \u001b[38;5;241m|\u001b[39m \u001b[38;5;28;01mNone\u001b[39;00m \u001b[38;5;241m=\u001b[39m \u001b[38;5;28;01mNone\u001b[39;00m\n\u001b[0;32m-> 1620\u001b[0m \u001b[38;5;28mself\u001b[39m\u001b[38;5;241m.\u001b[39m_engine \u001b[38;5;241m=\u001b[39m \u001b[38;5;28mself\u001b[39m\u001b[38;5;241m.\u001b[39m_make_engine(f, \u001b[38;5;28mself\u001b[39m\u001b[38;5;241m.\u001b[39mengine)\n",
      "File \u001b[0;32m/opt/anaconda3/lib/python3.12/site-packages/pandas/io/parsers/readers.py:1880\u001b[0m, in \u001b[0;36mTextFileReader._make_engine\u001b[0;34m(self, f, engine)\u001b[0m\n\u001b[1;32m   1878\u001b[0m     \u001b[38;5;28;01mif\u001b[39;00m \u001b[38;5;124m\"\u001b[39m\u001b[38;5;124mb\u001b[39m\u001b[38;5;124m\"\u001b[39m \u001b[38;5;129;01mnot\u001b[39;00m \u001b[38;5;129;01min\u001b[39;00m mode:\n\u001b[1;32m   1879\u001b[0m         mode \u001b[38;5;241m+\u001b[39m\u001b[38;5;241m=\u001b[39m \u001b[38;5;124m\"\u001b[39m\u001b[38;5;124mb\u001b[39m\u001b[38;5;124m\"\u001b[39m\n\u001b[0;32m-> 1880\u001b[0m \u001b[38;5;28mself\u001b[39m\u001b[38;5;241m.\u001b[39mhandles \u001b[38;5;241m=\u001b[39m get_handle(\n\u001b[1;32m   1881\u001b[0m     f,\n\u001b[1;32m   1882\u001b[0m     mode,\n\u001b[1;32m   1883\u001b[0m     encoding\u001b[38;5;241m=\u001b[39m\u001b[38;5;28mself\u001b[39m\u001b[38;5;241m.\u001b[39moptions\u001b[38;5;241m.\u001b[39mget(\u001b[38;5;124m\"\u001b[39m\u001b[38;5;124mencoding\u001b[39m\u001b[38;5;124m\"\u001b[39m, \u001b[38;5;28;01mNone\u001b[39;00m),\n\u001b[1;32m   1884\u001b[0m     compression\u001b[38;5;241m=\u001b[39m\u001b[38;5;28mself\u001b[39m\u001b[38;5;241m.\u001b[39moptions\u001b[38;5;241m.\u001b[39mget(\u001b[38;5;124m\"\u001b[39m\u001b[38;5;124mcompression\u001b[39m\u001b[38;5;124m\"\u001b[39m, \u001b[38;5;28;01mNone\u001b[39;00m),\n\u001b[1;32m   1885\u001b[0m     memory_map\u001b[38;5;241m=\u001b[39m\u001b[38;5;28mself\u001b[39m\u001b[38;5;241m.\u001b[39moptions\u001b[38;5;241m.\u001b[39mget(\u001b[38;5;124m\"\u001b[39m\u001b[38;5;124mmemory_map\u001b[39m\u001b[38;5;124m\"\u001b[39m, \u001b[38;5;28;01mFalse\u001b[39;00m),\n\u001b[1;32m   1886\u001b[0m     is_text\u001b[38;5;241m=\u001b[39mis_text,\n\u001b[1;32m   1887\u001b[0m     errors\u001b[38;5;241m=\u001b[39m\u001b[38;5;28mself\u001b[39m\u001b[38;5;241m.\u001b[39moptions\u001b[38;5;241m.\u001b[39mget(\u001b[38;5;124m\"\u001b[39m\u001b[38;5;124mencoding_errors\u001b[39m\u001b[38;5;124m\"\u001b[39m, \u001b[38;5;124m\"\u001b[39m\u001b[38;5;124mstrict\u001b[39m\u001b[38;5;124m\"\u001b[39m),\n\u001b[1;32m   1888\u001b[0m     storage_options\u001b[38;5;241m=\u001b[39m\u001b[38;5;28mself\u001b[39m\u001b[38;5;241m.\u001b[39moptions\u001b[38;5;241m.\u001b[39mget(\u001b[38;5;124m\"\u001b[39m\u001b[38;5;124mstorage_options\u001b[39m\u001b[38;5;124m\"\u001b[39m, \u001b[38;5;28;01mNone\u001b[39;00m),\n\u001b[1;32m   1889\u001b[0m )\n\u001b[1;32m   1890\u001b[0m \u001b[38;5;28;01massert\u001b[39;00m \u001b[38;5;28mself\u001b[39m\u001b[38;5;241m.\u001b[39mhandles \u001b[38;5;129;01mis\u001b[39;00m \u001b[38;5;129;01mnot\u001b[39;00m \u001b[38;5;28;01mNone\u001b[39;00m\n\u001b[1;32m   1891\u001b[0m f \u001b[38;5;241m=\u001b[39m \u001b[38;5;28mself\u001b[39m\u001b[38;5;241m.\u001b[39mhandles\u001b[38;5;241m.\u001b[39mhandle\n",
      "File \u001b[0;32m/opt/anaconda3/lib/python3.12/site-packages/pandas/io/common.py:873\u001b[0m, in \u001b[0;36mget_handle\u001b[0;34m(path_or_buf, mode, encoding, compression, memory_map, is_text, errors, storage_options)\u001b[0m\n\u001b[1;32m    868\u001b[0m \u001b[38;5;28;01melif\u001b[39;00m \u001b[38;5;28misinstance\u001b[39m(handle, \u001b[38;5;28mstr\u001b[39m):\n\u001b[1;32m    869\u001b[0m     \u001b[38;5;66;03m# Check whether the filename is to be opened in binary mode.\u001b[39;00m\n\u001b[1;32m    870\u001b[0m     \u001b[38;5;66;03m# Binary mode does not support 'encoding' and 'newline'.\u001b[39;00m\n\u001b[1;32m    871\u001b[0m     \u001b[38;5;28;01mif\u001b[39;00m ioargs\u001b[38;5;241m.\u001b[39mencoding \u001b[38;5;129;01mand\u001b[39;00m \u001b[38;5;124m\"\u001b[39m\u001b[38;5;124mb\u001b[39m\u001b[38;5;124m\"\u001b[39m \u001b[38;5;129;01mnot\u001b[39;00m \u001b[38;5;129;01min\u001b[39;00m ioargs\u001b[38;5;241m.\u001b[39mmode:\n\u001b[1;32m    872\u001b[0m         \u001b[38;5;66;03m# Encoding\u001b[39;00m\n\u001b[0;32m--> 873\u001b[0m         handle \u001b[38;5;241m=\u001b[39m \u001b[38;5;28mopen\u001b[39m(\n\u001b[1;32m    874\u001b[0m             handle,\n\u001b[1;32m    875\u001b[0m             ioargs\u001b[38;5;241m.\u001b[39mmode,\n\u001b[1;32m    876\u001b[0m             encoding\u001b[38;5;241m=\u001b[39mioargs\u001b[38;5;241m.\u001b[39mencoding,\n\u001b[1;32m    877\u001b[0m             errors\u001b[38;5;241m=\u001b[39merrors,\n\u001b[1;32m    878\u001b[0m             newline\u001b[38;5;241m=\u001b[39m\u001b[38;5;124m\"\u001b[39m\u001b[38;5;124m\"\u001b[39m,\n\u001b[1;32m    879\u001b[0m         )\n\u001b[1;32m    880\u001b[0m     \u001b[38;5;28;01melse\u001b[39;00m:\n\u001b[1;32m    881\u001b[0m         \u001b[38;5;66;03m# Binary mode\u001b[39;00m\n\u001b[1;32m    882\u001b[0m         handle \u001b[38;5;241m=\u001b[39m \u001b[38;5;28mopen\u001b[39m(handle, ioargs\u001b[38;5;241m.\u001b[39mmode)\n",
      "\u001b[0;31mFileNotFoundError\u001b[0m: [Errno 2] No such file or directory: 'Potencial_Novos_Clientes.txt'"
     ]
    }
   ],
   "source": [
    "dados = pd.read_table(\"Potencial_Novos_Clientes.txt\",\n",
    "                      sep=\"\\t\",\n",
    "                      header=0)"
   ]
  },
  {
   "cell_type": "markdown",
   "metadata": {
    "id": "q3nWlTuwiJDh"
   },
   "source": [
    "### **Visualização da base de dados**"
   ]
  },
  {
   "cell_type": "code",
   "execution_count": 333,
   "metadata": {
    "colab": {
     "base_uri": "https://localhost:8080/",
     "height": 206
    },
    "executionInfo": {
     "elapsed": 146,
     "status": "ok",
     "timestamp": 1741029587546,
     "user": {
      "displayName": "A. C.",
      "userId": "00912246211498097173"
     },
     "user_tz": 180
    },
    "id": "NWxUtoLNiJDh",
    "outputId": "8f855c75-fbdc-4db5-d267-ff484c9dc263"
   },
   "outputs": [
    {
     "data": {
      "text/html": [
       "<div>\n",
       "<style scoped>\n",
       "    .dataframe tbody tr th:only-of-type {\n",
       "        vertical-align: middle;\n",
       "    }\n",
       "\n",
       "    .dataframe tbody tr th {\n",
       "        vertical-align: top;\n",
       "    }\n",
       "\n",
       "    .dataframe thead th {\n",
       "        text-align: right;\n",
       "    }\n",
       "</style>\n",
       "<table border=\"1\" class=\"dataframe\">\n",
       "  <thead>\n",
       "    <tr style=\"text-align: right;\">\n",
       "      <th></th>\n",
       "      <th>COD_CARTAO</th>\n",
       "      <th>IDADE_CLIENTE</th>\n",
       "      <th>RENDA_MENSAL_CLIENTE</th>\n",
       "      <th>BEHAVIOUR_SCORE_CLIENTE</th>\n",
       "      <th>QTD_TRANSACOES_3M</th>\n",
       "      <th>QTD_ITENS_3M</th>\n",
       "      <th>VALOR_GASTO_3M</th>\n",
       "      <th>TICKET_MEDIO_3M</th>\n",
       "      <th>FLAG_ELETRONICOS_3M</th>\n",
       "      <th>SATISFACAO_ULTIMA_COMPRA</th>\n",
       "      <th>VALOR_GASTO_PROX_12M</th>\n",
       "    </tr>\n",
       "  </thead>\n",
       "  <tbody>\n",
       "    <tr>\n",
       "      <th>0</th>\n",
       "      <td>212394</td>\n",
       "      <td>22</td>\n",
       "      <td>1500</td>\n",
       "      <td>52</td>\n",
       "      <td>2</td>\n",
       "      <td>4</td>\n",
       "      <td>802</td>\n",
       "      <td>401.000</td>\n",
       "      <td>0</td>\n",
       "      <td>01_Muito_Satisfeito</td>\n",
       "      <td>226</td>\n",
       "    </tr>\n",
       "    <tr>\n",
       "      <th>1</th>\n",
       "      <td>279177</td>\n",
       "      <td>29</td>\n",
       "      <td>1800</td>\n",
       "      <td>94</td>\n",
       "      <td>5</td>\n",
       "      <td>5</td>\n",
       "      <td>1384</td>\n",
       "      <td>276.800</td>\n",
       "      <td>1</td>\n",
       "      <td>03_Neutro</td>\n",
       "      <td>2786</td>\n",
       "    </tr>\n",
       "    <tr>\n",
       "      <th>2</th>\n",
       "      <td>291430</td>\n",
       "      <td>36</td>\n",
       "      <td>1500</td>\n",
       "      <td>89</td>\n",
       "      <td>5</td>\n",
       "      <td>6</td>\n",
       "      <td>1610</td>\n",
       "      <td>322.000</td>\n",
       "      <td>1</td>\n",
       "      <td>Nao_Respondeu</td>\n",
       "      <td>3737</td>\n",
       "    </tr>\n",
       "    <tr>\n",
       "      <th>3</th>\n",
       "      <td>176612</td>\n",
       "      <td>43</td>\n",
       "      <td>1500</td>\n",
       "      <td>48</td>\n",
       "      <td>3</td>\n",
       "      <td>4</td>\n",
       "      <td>836</td>\n",
       "      <td>278.670</td>\n",
       "      <td>0</td>\n",
       "      <td>01_Muito_Satisfeito</td>\n",
       "      <td>1162</td>\n",
       "    </tr>\n",
       "    <tr>\n",
       "      <th>4</th>\n",
       "      <td>223092</td>\n",
       "      <td>28</td>\n",
       "      <td>12090</td>\n",
       "      <td>89</td>\n",
       "      <td>4</td>\n",
       "      <td>5</td>\n",
       "      <td>1318</td>\n",
       "      <td>329.500</td>\n",
       "      <td>0</td>\n",
       "      <td>Nao_Respondeu</td>\n",
       "      <td>2699</td>\n",
       "    </tr>\n",
       "  </tbody>\n",
       "</table>\n",
       "</div>"
      ],
      "text/plain": [
       "   COD_CARTAO  IDADE_CLIENTE  RENDA_MENSAL_CLIENTE  BEHAVIOUR_SCORE_CLIENTE  \\\n",
       "0      212394             22                  1500                       52   \n",
       "1      279177             29                  1800                       94   \n",
       "2      291430             36                  1500                       89   \n",
       "3      176612             43                  1500                       48   \n",
       "4      223092             28                 12090                       89   \n",
       "\n",
       "   QTD_TRANSACOES_3M  QTD_ITENS_3M  VALOR_GASTO_3M  TICKET_MEDIO_3M  \\\n",
       "0                  2             4             802          401.000   \n",
       "1                  5             5            1384          276.800   \n",
       "2                  5             6            1610          322.000   \n",
       "3                  3             4             836          278.670   \n",
       "4                  4             5            1318          329.500   \n",
       "\n",
       "   FLAG_ELETRONICOS_3M SATISFACAO_ULTIMA_COMPRA  VALOR_GASTO_PROX_12M  \n",
       "0                    0      01_Muito_Satisfeito                   226  \n",
       "1                    1                03_Neutro                  2786  \n",
       "2                    1            Nao_Respondeu                  3737  \n",
       "3                    0      01_Muito_Satisfeito                  1162  \n",
       "4                    0            Nao_Respondeu                  2699  "
      ]
     },
     "execution_count": 333,
     "metadata": {},
     "output_type": "execute_result"
    }
   ],
   "source": [
    "dados.head()"
   ]
  },
  {
   "cell_type": "markdown",
   "metadata": {
    "id": "5VC7IpoA2soL"
   },
   "source": [
    "### **Dimensões da base de dados**"
   ]
  },
  {
   "cell_type": "code",
   "execution_count": 334,
   "metadata": {
    "colab": {
     "base_uri": "https://localhost:8080/"
    },
    "executionInfo": {
     "elapsed": 9,
     "status": "ok",
     "timestamp": 1741029587557,
     "user": {
      "displayName": "A. C.",
      "userId": "00912246211498097173"
     },
     "user_tz": 180
    },
    "id": "Sq_qAaFU2soM",
    "outputId": "cb5c3329-f5a0-405d-e352-3c0072a88d63"
   },
   "outputs": [
    {
     "data": {
      "text/plain": [
       "(2930, 11)"
      ]
     },
     "execution_count": 334,
     "metadata": {},
     "output_type": "execute_result"
    }
   ],
   "source": [
    "dados.shape"
   ]
  },
  {
   "cell_type": "markdown",
   "metadata": {
    "id": "i6guzACW3Jdh"
   },
   "source": [
    "### **Tipos das colunas da base de dados**"
   ]
  },
  {
   "cell_type": "code",
   "execution_count": 335,
   "metadata": {
    "colab": {
     "base_uri": "https://localhost:8080/",
     "height": 147
    },
    "executionInfo": {
     "elapsed": 19,
     "status": "ok",
     "timestamp": 1741029587578,
     "user": {
      "displayName": "A. C.",
      "userId": "00912246211498097173"
     },
     "user_tz": 180
    },
    "id": "MXpbc8N43Jdi",
    "outputId": "f5352b6b-c41f-42c9-a2e2-6b95746d3bbb"
   },
   "outputs": [
    {
     "data": {
      "text/plain": [
       "COD_CARTAO                    int64\n",
       "IDADE_CLIENTE                 int64\n",
       "RENDA_MENSAL_CLIENTE          int64\n",
       "BEHAVIOUR_SCORE_CLIENTE       int64\n",
       "QTD_TRANSACOES_3M             int64\n",
       "QTD_ITENS_3M                  int64\n",
       "VALOR_GASTO_3M                int64\n",
       "TICKET_MEDIO_3M             float64\n",
       "FLAG_ELETRONICOS_3M           int64\n",
       "SATISFACAO_ULTIMA_COMPRA     object\n",
       "VALOR_GASTO_PROX_12M          int64\n",
       "dtype: object"
      ]
     },
     "execution_count": 335,
     "metadata": {},
     "output_type": "execute_result"
    }
   ],
   "source": [
    "dados.dtypes"
   ]
  },
  {
   "cell_type": "markdown",
   "metadata": {},
   "source": [
    "### **Etapa 1: Especificação de variáveis explicativas e variável resposta**"
   ]
  },
  {
   "cell_type": "markdown",
   "metadata": {},
   "source": [
    "*Lista de nomes das variáveis explicativas, separando em quantitativas e qualitativas*"
   ]
  },
  {
   "cell_type": "code",
   "execution_count": 336,
   "metadata": {},
   "outputs": [],
   "source": [
    "# Variáveis explicativas quantitativas (deixar vazio [] caso não haja nenhuma)\n",
    "lista_X_quanti = ['IDADE_CLIENTE',\n",
    "                  'RENDA_MENSAL_CLIENTE',\n",
    "                  'BEHAVIOUR_SCORE_CLIENTE',\n",
    "                  'QTD_TRANSACOES_3M',\n",
    "                  'QTD_ITENS_3M',\n",
    "                  'VALOR_GASTO_3M',\n",
    "                  'TICKET_MEDIO_3M']\n",
    "\n",
    "# Variáveis explicativas qualitativas (deixar vazio [] caso não haja nenhuma)\n",
    "lista_X_quali = ['FLAG_ELETRONICOS_3M',\n",
    "                 'SATISFACAO_ULTIMA_COMPRA']"
   ]
  },
  {
   "cell_type": "code",
   "execution_count": 337,
   "metadata": {},
   "outputs": [],
   "source": [
    "y = dados['VALOR_GASTO_PROX_12M']\n",
    "X = dados[lista_X_quanti + lista_X_quali]"
   ]
  },
  {
   "cell_type": "markdown",
   "metadata": {},
   "source": [
    "### **Etapa 2: Divisão de treino e teste externo**"
   ]
  },
  {
   "cell_type": "code",
   "execution_count": 338,
   "metadata": {},
   "outputs": [],
   "source": [
    "X_treino, X_teste, y_treino, y_teste = train_test_split(X, y,\n",
    "                                                        test_size=0.2,\n",
    "                                                        random_state=123)"
   ]
  },
  {
   "cell_type": "markdown",
   "metadata": {},
   "source": [
    "### **Etapa 3: Pré-processamento de variáveis explicativas**"
   ]
  },
  {
   "cell_type": "markdown",
   "metadata": {},
   "source": [
    "*Definição das funções de pré-processamento: Padronização das variáveis quantitativas + Codificação one-hot para variáveis qualitativas*"
   ]
  },
  {
   "cell_type": "code",
   "execution_count": 339,
   "metadata": {},
   "outputs": [],
   "source": [
    "preprocessador = ColumnTransformer(transformers=[\n",
    "    (\"quanti\", StandardScaler(), lista_X_quanti),\n",
    "    (\"quali\", OneHotEncoder(sparse_output=False, drop=\"first\", handle_unknown='ignore'), lista_X_quali)\n",
    "])"
   ]
  },
  {
   "cell_type": "markdown",
   "metadata": {},
   "source": [
    "*Criação do pré-processamento no conjunto de treino* <br>"
   ]
  },
  {
   "cell_type": "code",
   "execution_count": 340,
   "metadata": {},
   "outputs": [],
   "source": [
    "X_treino_tratada = preprocessador.fit_transform(X_treino)  # O pré-processamento não deve envolver o conjunto de teste externo, que deve ficar reservado apenas para aplicações de resultados já obtidos, e nunca construções\n",
    "if lista_X_quali:\n",
    "    nomes_quali = list(preprocessador.named_transformers_['quali'].get_feature_names_out(lista_X_quali))\n",
    "else:\n",
    "    nomes_quali = []\n",
    "nomes_variaveis = list(lista_X_quanti) + nomes_quali"
   ]
  },
  {
   "cell_type": "code",
   "execution_count": 341,
   "metadata": {},
   "outputs": [
    {
     "data": {
      "text/html": [
       "<div>\n",
       "<style scoped>\n",
       "    .dataframe tbody tr th:only-of-type {\n",
       "        vertical-align: middle;\n",
       "    }\n",
       "\n",
       "    .dataframe tbody tr th {\n",
       "        vertical-align: top;\n",
       "    }\n",
       "\n",
       "    .dataframe thead th {\n",
       "        text-align: right;\n",
       "    }\n",
       "</style>\n",
       "<table border=\"1\" class=\"dataframe\">\n",
       "  <thead>\n",
       "    <tr style=\"text-align: right;\">\n",
       "      <th></th>\n",
       "      <th>IDADE_CLIENTE</th>\n",
       "      <th>RENDA_MENSAL_CLIENTE</th>\n",
       "      <th>BEHAVIOUR_SCORE_CLIENTE</th>\n",
       "      <th>QTD_TRANSACOES_3M</th>\n",
       "      <th>QTD_ITENS_3M</th>\n",
       "      <th>VALOR_GASTO_3M</th>\n",
       "      <th>TICKET_MEDIO_3M</th>\n",
       "      <th>FLAG_ELETRONICOS_3M_1</th>\n",
       "      <th>SATISFACAO_ULTIMA_COMPRA_02_Satisfeito</th>\n",
       "      <th>SATISFACAO_ULTIMA_COMPRA_03_Neutro</th>\n",
       "      <th>SATISFACAO_ULTIMA_COMPRA_04_Insatisfeito</th>\n",
       "      <th>SATISFACAO_ULTIMA_COMPRA_05_Muito_Insatisfeito</th>\n",
       "      <th>SATISFACAO_ULTIMA_COMPRA_Nao_Respondeu</th>\n",
       "    </tr>\n",
       "  </thead>\n",
       "  <tbody>\n",
       "    <tr>\n",
       "      <th>0</th>\n",
       "      <td>0.616</td>\n",
       "      <td>0.632</td>\n",
       "      <td>-0.327</td>\n",
       "      <td>-0.082</td>\n",
       "      <td>-0.249</td>\n",
       "      <td>-0.273</td>\n",
       "      <td>-0.401</td>\n",
       "      <td>1.000</td>\n",
       "      <td>1.000</td>\n",
       "      <td>0.000</td>\n",
       "      <td>0.000</td>\n",
       "      <td>0.000</td>\n",
       "      <td>0.000</td>\n",
       "    </tr>\n",
       "    <tr>\n",
       "      <th>1</th>\n",
       "      <td>-0.544</td>\n",
       "      <td>0.492</td>\n",
       "      <td>0.939</td>\n",
       "      <td>1.087</td>\n",
       "      <td>-0.249</td>\n",
       "      <td>1.142</td>\n",
       "      <td>-0.338</td>\n",
       "      <td>1.000</td>\n",
       "      <td>0.000</td>\n",
       "      <td>0.000</td>\n",
       "      <td>0.000</td>\n",
       "      <td>0.000</td>\n",
       "      <td>1.000</td>\n",
       "    </tr>\n",
       "    <tr>\n",
       "      <th>2</th>\n",
       "      <td>0.181</td>\n",
       "      <td>1.155</td>\n",
       "      <td>0.073</td>\n",
       "      <td>-0.666</td>\n",
       "      <td>0.243</td>\n",
       "      <td>-0.548</td>\n",
       "      <td>-0.018</td>\n",
       "      <td>0.000</td>\n",
       "      <td>0.000</td>\n",
       "      <td>0.000</td>\n",
       "      <td>0.000</td>\n",
       "      <td>0.000</td>\n",
       "      <td>1.000</td>\n",
       "    </tr>\n",
       "    <tr>\n",
       "      <th>3</th>\n",
       "      <td>-0.399</td>\n",
       "      <td>0.960</td>\n",
       "      <td>-0.261</td>\n",
       "      <td>0.502</td>\n",
       "      <td>-0.249</td>\n",
       "      <td>-0.964</td>\n",
       "      <td>-1.110</td>\n",
       "      <td>1.000</td>\n",
       "      <td>0.000</td>\n",
       "      <td>0.000</td>\n",
       "      <td>0.000</td>\n",
       "      <td>0.000</td>\n",
       "      <td>0.000</td>\n",
       "    </tr>\n",
       "    <tr>\n",
       "      <th>4</th>\n",
       "      <td>-1.487</td>\n",
       "      <td>-0.168</td>\n",
       "      <td>0.073</td>\n",
       "      <td>-0.666</td>\n",
       "      <td>-1.235</td>\n",
       "      <td>-1.017</td>\n",
       "      <td>-0.520</td>\n",
       "      <td>0.000</td>\n",
       "      <td>0.000</td>\n",
       "      <td>0.000</td>\n",
       "      <td>0.000</td>\n",
       "      <td>1.000</td>\n",
       "      <td>0.000</td>\n",
       "    </tr>\n",
       "  </tbody>\n",
       "</table>\n",
       "</div>"
      ],
      "text/plain": [
       "   IDADE_CLIENTE  RENDA_MENSAL_CLIENTE  BEHAVIOUR_SCORE_CLIENTE  \\\n",
       "0          0.616                 0.632                   -0.327   \n",
       "1         -0.544                 0.492                    0.939   \n",
       "2          0.181                 1.155                    0.073   \n",
       "3         -0.399                 0.960                   -0.261   \n",
       "4         -1.487                -0.168                    0.073   \n",
       "\n",
       "   QTD_TRANSACOES_3M  QTD_ITENS_3M  VALOR_GASTO_3M  TICKET_MEDIO_3M  \\\n",
       "0             -0.082        -0.249          -0.273           -0.401   \n",
       "1              1.087        -0.249           1.142           -0.338   \n",
       "2             -0.666         0.243          -0.548           -0.018   \n",
       "3              0.502        -0.249          -0.964           -1.110   \n",
       "4             -0.666        -1.235          -1.017           -0.520   \n",
       "\n",
       "   FLAG_ELETRONICOS_3M_1  SATISFACAO_ULTIMA_COMPRA_02_Satisfeito  \\\n",
       "0                  1.000                                   1.000   \n",
       "1                  1.000                                   0.000   \n",
       "2                  0.000                                   0.000   \n",
       "3                  1.000                                   0.000   \n",
       "4                  0.000                                   0.000   \n",
       "\n",
       "   SATISFACAO_ULTIMA_COMPRA_03_Neutro  \\\n",
       "0                               0.000   \n",
       "1                               0.000   \n",
       "2                               0.000   \n",
       "3                               0.000   \n",
       "4                               0.000   \n",
       "\n",
       "   SATISFACAO_ULTIMA_COMPRA_04_Insatisfeito  \\\n",
       "0                                     0.000   \n",
       "1                                     0.000   \n",
       "2                                     0.000   \n",
       "3                                     0.000   \n",
       "4                                     0.000   \n",
       "\n",
       "   SATISFACAO_ULTIMA_COMPRA_05_Muito_Insatisfeito  \\\n",
       "0                                           0.000   \n",
       "1                                           0.000   \n",
       "2                                           0.000   \n",
       "3                                           0.000   \n",
       "4                                           1.000   \n",
       "\n",
       "   SATISFACAO_ULTIMA_COMPRA_Nao_Respondeu  \n",
       "0                                   0.000  \n",
       "1                                   1.000  \n",
       "2                                   1.000  \n",
       "3                                   0.000  \n",
       "4                                   0.000  "
      ]
     },
     "execution_count": 341,
     "metadata": {},
     "output_type": "execute_result"
    }
   ],
   "source": [
    "X_treino_tratada = pd.DataFrame(X_treino_tratada, columns=nomes_variaveis)\n",
    "X_treino_tratada.head()"
   ]
  },
  {
   "cell_type": "markdown",
   "metadata": {},
   "source": [
    "*Aplicação do pré-processamento no conjunto de teste externo*"
   ]
  },
  {
   "cell_type": "code",
   "execution_count": 342,
   "metadata": {},
   "outputs": [
    {
     "data": {
      "text/html": [
       "<div>\n",
       "<style scoped>\n",
       "    .dataframe tbody tr th:only-of-type {\n",
       "        vertical-align: middle;\n",
       "    }\n",
       "\n",
       "    .dataframe tbody tr th {\n",
       "        vertical-align: top;\n",
       "    }\n",
       "\n",
       "    .dataframe thead th {\n",
       "        text-align: right;\n",
       "    }\n",
       "</style>\n",
       "<table border=\"1\" class=\"dataframe\">\n",
       "  <thead>\n",
       "    <tr style=\"text-align: right;\">\n",
       "      <th></th>\n",
       "      <th>IDADE_CLIENTE</th>\n",
       "      <th>RENDA_MENSAL_CLIENTE</th>\n",
       "      <th>BEHAVIOUR_SCORE_CLIENTE</th>\n",
       "      <th>QTD_TRANSACOES_3M</th>\n",
       "      <th>QTD_ITENS_3M</th>\n",
       "      <th>VALOR_GASTO_3M</th>\n",
       "      <th>TICKET_MEDIO_3M</th>\n",
       "      <th>FLAG_ELETRONICOS_3M_1</th>\n",
       "      <th>SATISFACAO_ULTIMA_COMPRA_02_Satisfeito</th>\n",
       "      <th>SATISFACAO_ULTIMA_COMPRA_03_Neutro</th>\n",
       "      <th>SATISFACAO_ULTIMA_COMPRA_04_Insatisfeito</th>\n",
       "      <th>SATISFACAO_ULTIMA_COMPRA_05_Muito_Insatisfeito</th>\n",
       "      <th>SATISFACAO_ULTIMA_COMPRA_Nao_Respondeu</th>\n",
       "    </tr>\n",
       "  </thead>\n",
       "  <tbody>\n",
       "    <tr>\n",
       "      <th>0</th>\n",
       "      <td>-0.689</td>\n",
       "      <td>0.366</td>\n",
       "      <td>-0.061</td>\n",
       "      <td>-0.666</td>\n",
       "      <td>-0.249</td>\n",
       "      <td>-1.157</td>\n",
       "      <td>-0.669</td>\n",
       "      <td>0.000</td>\n",
       "      <td>1.000</td>\n",
       "      <td>0.000</td>\n",
       "      <td>0.000</td>\n",
       "      <td>0.000</td>\n",
       "      <td>0.000</td>\n",
       "    </tr>\n",
       "    <tr>\n",
       "      <th>1</th>\n",
       "      <td>0.978</td>\n",
       "      <td>1.325</td>\n",
       "      <td>0.606</td>\n",
       "      <td>1.671</td>\n",
       "      <td>0.736</td>\n",
       "      <td>2.223</td>\n",
       "      <td>-0.189</td>\n",
       "      <td>0.000</td>\n",
       "      <td>0.000</td>\n",
       "      <td>0.000</td>\n",
       "      <td>0.000</td>\n",
       "      <td>0.000</td>\n",
       "      <td>1.000</td>\n",
       "    </tr>\n",
       "    <tr>\n",
       "      <th>2</th>\n",
       "      <td>1.196</td>\n",
       "      <td>1.427</td>\n",
       "      <td>1.406</td>\n",
       "      <td>1.087</td>\n",
       "      <td>1.228</td>\n",
       "      <td>0.134</td>\n",
       "      <td>-0.769</td>\n",
       "      <td>1.000</td>\n",
       "      <td>0.000</td>\n",
       "      <td>1.000</td>\n",
       "      <td>0.000</td>\n",
       "      <td>0.000</td>\n",
       "      <td>0.000</td>\n",
       "    </tr>\n",
       "    <tr>\n",
       "      <th>3</th>\n",
       "      <td>-0.617</td>\n",
       "      <td>0.381</td>\n",
       "      <td>0.673</td>\n",
       "      <td>-0.082</td>\n",
       "      <td>-0.249</td>\n",
       "      <td>0.541</td>\n",
       "      <td>0.179</td>\n",
       "      <td>0.000</td>\n",
       "      <td>0.000</td>\n",
       "      <td>1.000</td>\n",
       "      <td>0.000</td>\n",
       "      <td>0.000</td>\n",
       "      <td>0.000</td>\n",
       "    </tr>\n",
       "    <tr>\n",
       "      <th>4</th>\n",
       "      <td>-0.979</td>\n",
       "      <td>-0.062</td>\n",
       "      <td>-1.327</td>\n",
       "      <td>1.087</td>\n",
       "      <td>-0.742</td>\n",
       "      <td>0.046</td>\n",
       "      <td>-0.807</td>\n",
       "      <td>0.000</td>\n",
       "      <td>0.000</td>\n",
       "      <td>0.000</td>\n",
       "      <td>0.000</td>\n",
       "      <td>0.000</td>\n",
       "      <td>0.000</td>\n",
       "    </tr>\n",
       "  </tbody>\n",
       "</table>\n",
       "</div>"
      ],
      "text/plain": [
       "   IDADE_CLIENTE  RENDA_MENSAL_CLIENTE  BEHAVIOUR_SCORE_CLIENTE  \\\n",
       "0         -0.689                 0.366                   -0.061   \n",
       "1          0.978                 1.325                    0.606   \n",
       "2          1.196                 1.427                    1.406   \n",
       "3         -0.617                 0.381                    0.673   \n",
       "4         -0.979                -0.062                   -1.327   \n",
       "\n",
       "   QTD_TRANSACOES_3M  QTD_ITENS_3M  VALOR_GASTO_3M  TICKET_MEDIO_3M  \\\n",
       "0             -0.666        -0.249          -1.157           -0.669   \n",
       "1              1.671         0.736           2.223           -0.189   \n",
       "2              1.087         1.228           0.134           -0.769   \n",
       "3             -0.082        -0.249           0.541            0.179   \n",
       "4              1.087        -0.742           0.046           -0.807   \n",
       "\n",
       "   FLAG_ELETRONICOS_3M_1  SATISFACAO_ULTIMA_COMPRA_02_Satisfeito  \\\n",
       "0                  0.000                                   1.000   \n",
       "1                  0.000                                   0.000   \n",
       "2                  1.000                                   0.000   \n",
       "3                  0.000                                   0.000   \n",
       "4                  0.000                                   0.000   \n",
       "\n",
       "   SATISFACAO_ULTIMA_COMPRA_03_Neutro  \\\n",
       "0                               0.000   \n",
       "1                               0.000   \n",
       "2                               1.000   \n",
       "3                               1.000   \n",
       "4                               0.000   \n",
       "\n",
       "   SATISFACAO_ULTIMA_COMPRA_04_Insatisfeito  \\\n",
       "0                                     0.000   \n",
       "1                                     0.000   \n",
       "2                                     0.000   \n",
       "3                                     0.000   \n",
       "4                                     0.000   \n",
       "\n",
       "   SATISFACAO_ULTIMA_COMPRA_05_Muito_Insatisfeito  \\\n",
       "0                                           0.000   \n",
       "1                                           0.000   \n",
       "2                                           0.000   \n",
       "3                                           0.000   \n",
       "4                                           0.000   \n",
       "\n",
       "   SATISFACAO_ULTIMA_COMPRA_Nao_Respondeu  \n",
       "0                                   0.000  \n",
       "1                                   1.000  \n",
       "2                                   0.000  \n",
       "3                                   0.000  \n",
       "4                                   0.000  "
      ]
     },
     "execution_count": 342,
     "metadata": {},
     "output_type": "execute_result"
    }
   ],
   "source": [
    "X_teste_tratada = preprocessador.transform(X_teste)  # Note que o mesmo objeto de pré-processamento deve ser utilizado, agora com 'transform' em vez de 'fit_transform'\n",
    "X_teste_tratada = pd.DataFrame(X_teste_tratada, columns=nomes_variaveis)\n",
    "X_teste_tratada.head()"
   ]
  },
  {
   "cell_type": "markdown",
   "metadata": {},
   "source": [
    "### **Etapa 4: Definição dos algoritmos e intervalos de busca de hiperparâmetros**"
   ]
  },
  {
   "cell_type": "code",
   "execution_count": 343,
   "metadata": {},
   "outputs": [],
   "source": [
    "algoritmos = {\n",
    "\n",
    "    'REGRESSÃO LINEAR': (LinearRegression(), {\n",
    "    }),\n",
    "    \n",
    "    'REGRESSÃO LINEAR + RIDGE': (Ridge(), {\n",
    "        'alpha': loguniform(1e-5, 1e1)                # Força da penalização L2: valores menores são mais prováveis\n",
    "    }),\n",
    "\n",
    "    'REGRESSÃO LINEAR + LASSO': (Lasso(random_state=123, max_iter=1000), {\n",
    "        'alpha': loguniform(1e-5, 1e1)                # Força da penalização L1: favorece esparsidade\n",
    "    }),\n",
    "\n",
    "    'REGRESSÃO LINEAR + ELASTICNET': (ElasticNet(random_state=123, max_iter=1000), {\n",
    "        'alpha': loguniform(1e-5, 1e1),               # Força global da penalização\n",
    "        \"l1_ratio\": uniform(0, 1)                     # Proporção de L1: 0 = ridge puro, 1 = LASSO puro\n",
    "    }),\n",
    "\n",
    "    'REGRESSÃO LINEAR VIA GRADIENTE DESCENDENTE': (SGDRegressor(random_state=123, max_iter=10000, tol=1e-3), {\n",
    "        'penalty': ['l2', 'l1', 'elasticnet'],        # Tipo de penalização\n",
    "        \"alpha\": loguniform(1e-5, 1e1),               # Força da regularização\n",
    "        \"l1_ratio\": uniform(0, 1),                    # Proporção L1 no caso elasticnet\n",
    "        \"eta0\": loguniform(1e-4, 1e-1),               # Taxa inicial de aprendizado\n",
    "        \"learning_rate\": [\"constant\", \"invscaling\", \"adaptive\"]  # Estratégia de atualização do eta0\n",
    "    }),\n",
    "\n",
    "    'ÁRVORE DE REGRESSÃO': (DecisionTreeRegressor(random_state=123), {\n",
    "        'max_depth': randint(3, 11),                  # Profundidade máxima da árvore\n",
    "        'min_samples_split': randint(2, 11),          # Qtde. mínimo de amostras para dividir um nó\n",
    "        'min_samples_leaf': randint(1, 6)             # Qtde. mínimo de amostras em uma folha\n",
    "    }),\n",
    "\n",
    "    'FLORESTA ALEATÓRIA': (RandomForestRegressor(random_state=123, n_jobs = -1), {\n",
    "        'n_estimators': randint(100, 501),            # Qtde. de árvores na floresta\n",
    "        'max_depth': randint(3, 11),                  # Profundidade máxima das árvores\n",
    "        'min_samples_split': randint(2, 11),          # Critério de divisão mínima\n",
    "        'min_samples_leaf': randint(1, 6),            # Tamanho mínimo de folha\n",
    "        'bootstrap': [True, False],                   # Amostragem com ou sem reposição\n",
    "        'max_features': ['sqrt', 'log2', None]        # Qtde. de variáveis por split\n",
    "    }),\n",
    "\n",
    "    'ADABOOST': (AdaBoostRegressor(random_state=123), {\n",
    "        'n_estimators': randint(50, 301),             # Qtde. de estimadores fracos\n",
    "        'learning_rate': uniform(0.01, 0.99)          # Peso aplicado a cada novo estimador\n",
    "    }),\n",
    "\n",
    "    'GRADIENT BOOSTING': (GradientBoostingRegressor(random_state=123), {\n",
    "        'n_estimators': randint(100, 301),            # Qtde. de árvores no boosting\n",
    "        'learning_rate': uniform(0.01, 0.29),         # Taxa de aprendizado\n",
    "        'max_depth': randint(3, 11),                  # Profundidade máxima das árvores\n",
    "        'min_samples_split': randint(2, 11),          # Tamanho mínimo de split\n",
    "        'min_samples_leaf': randint(1, 6),            # Tamanho mínimo de folha\n",
    "        'subsample': uniform(0.6, 0.4),               # Proporção da amostra usada em cada árvore\n",
    "        'max_features': ['sqrt', 'log2', None]        # Qtde. de variáveis por split\n",
    "    }),\n",
    "\n",
    "    'HISTGRADIENTBOOSTING': (HistGradientBoostingRegressor(random_state=123), {\n",
    "        'learning_rate': uniform(0.01, 0.29),         # Taxa de aprendizado\n",
    "        'max_iter': randint(100, 301),                # Qtde. de iterações (árvores)\n",
    "        'max_depth': randint(3, 11),                  # Profundidade máxima\n",
    "        'min_samples_leaf': randint(1, 6),            # Tamanho mínimo de folha\n",
    "        'max_bins': randint(128, 257),                # Qtde. de bins para discretização\n",
    "        'l2_regularization': uniform(0.0, 1.0),       # Penalização L2\n",
    "        'max_leaf_nodes': randint(15, 100)            # Máximo de folhas por árvore\n",
    "    }),\n",
    "\n",
    "    'XGBOOST': (XGBRegressor(random_state=123, n_jobs = -1), {\n",
    "        'n_estimators': randint(100, 301),            # Qtde. de árvores\n",
    "        'learning_rate': uniform(0.01, 0.29),         # Taxa de aprendizado\n",
    "        'max_depth': randint(3, 11),                  # Profundidade máxima\n",
    "        'subsample': uniform(0.5, 0.5),               # Proporção da amostra\n",
    "        'colsample_bytree': uniform(0.5, 0.5),        # Proporção de variáveis por árvore\n",
    "        'gamma': uniform(0, 5),                       # Redução mínima de perda para quebrar\n",
    "        'reg_alpha': uniform(0, 1),                   # Penalização L1\n",
    "        'reg_lambda': uniform(0, 1)                   # Penalização L2\n",
    "    }),\n",
    "\n",
    "    'LIGHTGBM': (LGBMRegressor(random_state=123, n_jobs = -1, verbosity=-1), {\n",
    "        'n_estimators': randint(100, 301),            # Qtde. de árvores\n",
    "        'learning_rate': uniform(0.01, 0.29),         # Taxa de aprendizado\n",
    "        'max_depth': randint(3, 11),                  # Profundidade máxima\n",
    "        'num_leaves': randint(20, 150),               # Qtde. máximo de folhas\n",
    "        'subsample': uniform(0.5, 0.5),               # Proporção da amostra\n",
    "        'reg_alpha': uniform(0, 1),                   # Penalização L1\n",
    "        'reg_lambda': uniform(0, 1),                  # Penalização L2\n",
    "        'min_child_samples': randint(5, 50)           # Mínimo de amostras por folha\n",
    "    }),\n",
    "\n",
    "    'CATBOOST': (CatBoostRegressor(random_state=123, verbose=0), {\n",
    "        'iterations': randint(100, 301),              # Qtde. de árvores (iterações)\n",
    "        'learning_rate': uniform(0.01, 0.29),         # Taxa de aprendizado\n",
    "        'depth': randint(3, 11),                      # Profundidade máxima\n",
    "        'l2_leaf_reg': uniform(1, 9),                 # Penalização L2\n",
    "        'subsample': uniform(0.6, 0.4)                # Proporção da amostra\n",
    "    }),\n",
    "\n",
    "    'KNN': (KNeighborsRegressor(n_jobs = -1), {\n",
    "        'n_neighbors': randint(3, 51),                # Qtde. de vizinhos\n",
    "        'weights': ['uniform', 'distance'],           # Tipo de ponderação\n",
    "        'p': [1, 2]                                   # Distância: 1 = manhattan, 2 = euclidiana\n",
    "    })\n",
    "}"
   ]
  },
  {
   "cell_type": "markdown",
   "metadata": {},
   "source": [
    "### **Etapa 5: Construção de modelos usando validação cruzada, busca aleatória e teste externo**"
   ]
  },
  {
   "cell_type": "markdown",
   "metadata": {},
   "source": [
    "*Estratégia de validação cruzada (k-fold) e quantidade máxima de iterações de busca*"
   ]
  },
  {
   "cell_type": "code",
   "execution_count": 344,
   "metadata": {},
   "outputs": [],
   "source": [
    "kf = KFold(n_splits=5, shuffle=True, random_state=123)\n",
    "qtd_iteracoes = 20"
   ]
  },
  {
   "cell_type": "markdown",
   "metadata": {},
   "source": [
    "*Construção dos modelos*"
   ]
  },
  {
   "cell_type": "code",
   "execution_count": 345,
   "metadata": {},
   "outputs": [
    {
     "name": "stdout",
     "output_type": "stream",
     "text": [
      "(1 de 14) Processo concluído para o algoritmo REGRESSÃO LINEAR em 6.0 segundos!\n",
      "(2 de 14) Processo concluído para o algoritmo REGRESSÃO LINEAR + RIDGE em 5.2 segundos!\n",
      "(3 de 14) Processo concluído para o algoritmo REGRESSÃO LINEAR + LASSO em 0.5 segundos!\n",
      "(4 de 14) Processo concluído para o algoritmo REGRESSÃO LINEAR + ELASTICNET em 0.5 segundos!\n"
     ]
    },
    {
     "name": "stderr",
     "output_type": "stream",
     "text": [
      "c:\\Users\\angel\\AppData\\Local\\Programs\\Python\\Python313\\Lib\\site-packages\\sklearn\\linear_model\\_stochastic_gradient.py:1579: ConvergenceWarning: Maximum number of iteration reached before convergence. Consider increasing max_iter to improve the fit.\n",
      "  warnings.warn(\n",
      "c:\\Users\\angel\\AppData\\Local\\Programs\\Python\\Python313\\Lib\\site-packages\\sklearn\\linear_model\\_stochastic_gradient.py:1579: ConvergenceWarning: Maximum number of iteration reached before convergence. Consider increasing max_iter to improve the fit.\n",
      "  warnings.warn(\n",
      "c:\\Users\\angel\\AppData\\Local\\Programs\\Python\\Python313\\Lib\\site-packages\\sklearn\\linear_model\\_stochastic_gradient.py:1579: ConvergenceWarning: Maximum number of iteration reached before convergence. Consider increasing max_iter to improve the fit.\n",
      "  warnings.warn(\n",
      "c:\\Users\\angel\\AppData\\Local\\Programs\\Python\\Python313\\Lib\\site-packages\\sklearn\\linear_model\\_stochastic_gradient.py:1579: ConvergenceWarning: Maximum number of iteration reached before convergence. Consider increasing max_iter to improve the fit.\n",
      "  warnings.warn(\n"
     ]
    },
    {
     "name": "stdout",
     "output_type": "stream",
     "text": [
      "(5 de 14) Processo concluído para o algoritmo REGRESSÃO LINEAR VIA GRADIENTE DESCENDENTE em 27.1 segundos!\n",
      "(6 de 14) Processo concluído para o algoritmo ÁRVORE DE REGRESSÃO em 0.9 segundos!\n",
      "(7 de 14) Processo concluído para o algoritmo FLORESTA ALEATÓRIA em 58.6 segundos!\n",
      "(8 de 14) Processo concluído para o algoritmo ADABOOST em 26.7 segundos!\n",
      "(9 de 14) Processo concluído para o algoritmo GRADIENT BOOSTING em 33.8 segundos!\n",
      "(10 de 14) Processo concluído para o algoritmo HISTGRADIENTBOOSTING em 41.1 segundos!\n",
      "(11 de 14) Processo concluído para o algoritmo XGBOOST em 21.6 segundos!\n",
      "(12 de 14) Processo concluído para o algoritmo LIGHTGBM em 14.8 segundos!\n",
      "(13 de 14) Processo concluído para o algoritmo CATBOOST em 58.7 segundos!\n",
      "(14 de 14) Processo concluído para o algoritmo KNN em 5.9 segundos!\n"
     ]
    }
   ],
   "source": [
    "resultados = []         # Lista para armazenar resultados\n",
    "contador_modelos = 0    # Contador de modelos testados\n",
    "\n",
    "for nome_algoritmo, (classe_algoritmo, hiperparametros) in algoritmos.items():\n",
    "\n",
    "    # Início da contagem de tempo e de modelos\n",
    "    inicio = time.time()\n",
    "\n",
    "    # Busca aleatória de hiperparâmetros com validação cruzada (randomized search)\n",
    "    busca = RandomizedSearchCV(\n",
    "        estimator=classe_algoritmo,\n",
    "        param_distributions=hiperparametros,\n",
    "        n_iter=1 if not hiperparametros else qtd_iteracoes,\n",
    "        scoring='neg_mean_absolute_error',\n",
    "        cv=kf,\n",
    "        return_train_score=True,\n",
    "        random_state=123,\n",
    "        n_jobs=-1\n",
    "    )\n",
    "\n",
    "    # Ajuste dos modelos\n",
    "    busca.fit(X_treino_tratada, y_treino)\n",
    "\n",
    "    # Armazenar os resultados da busca\n",
    "    resultados_aux = pd.DataFrame({\n",
    "        \"num_modelo\": [f\"Modelo {contador_modelos + i}\" for i in range(len(busca.cv_results_[\"params\"]))],\n",
    "        \"nome_algoritmo\": nome_algoritmo,\n",
    "        \"classe_algoritmo\": type(classe_algoritmo).__name__,\n",
    "        \"hiperparametros\": busca.cv_results_[\"params\"],\n",
    "        \"media_erro_treino\": -busca.cv_results_[\"mean_train_score\"],\n",
    "        \"media_erro_teste_interno\": -busca.cv_results_[\"mean_test_score\"],\n",
    "        \"dp_erro_treino\": busca.cv_results_[\"std_train_score\"],\n",
    "        \"dp_erro_teste_interno\": busca.cv_results_[\"std_test_score\"]\n",
    "    })\n",
    "\n",
    "    # Calcular erro no teste externo, para cada modelo\n",
    "    erro_teste = []\n",
    "    for params in resultados_aux[\"hiperparametros\"]:\n",
    "        estimador = clone(classe_algoritmo).set_params(**params)\n",
    "        estimador.fit(X_treino_tratada, y_treino)\n",
    "        y_hat_teste = estimador.predict(X_teste_tratada)\n",
    "        erro = root_mean_squared_error(y_teste, y_hat_teste)\n",
    "        erro_teste.append(erro)\n",
    "\n",
    "    # Adicionar coluna de erro em teste externo e colunas de variações absolutas de erro em relação ao treino\n",
    "    resultados_aux[\"erro_teste_externo\"] = erro_teste\n",
    "    resultados_aux[\"var_abs_media_erro_teste_interno\"] = abs(resultados_aux[\"media_erro_teste_interno\"] - resultados_aux[\"media_erro_treino\"])\n",
    "    resultados_aux[\"var_abs_perc_media_erro_teste_interno\"] = resultados_aux[\"var_abs_media_erro_teste_interno\"] / resultados_aux[\"media_erro_treino\"]\n",
    "    resultados_aux[\"var_abs_erro_teste_externo\"] = abs(resultados_aux[\"erro_teste_externo\"] - resultados_aux[\"media_erro_treino\"])\n",
    "    resultados_aux[\"var_abs_perc_erro_teste_externo\"] = resultados_aux[\"var_abs_erro_teste_externo\"] / resultados_aux[\"media_erro_treino\"]\n",
    "\n",
    "    resultados.append(resultados_aux)\n",
    "    contador_modelos += len(resultados_aux)\n",
    "\n",
    "    # Fim da contagem de tempo e mensagem de finalização\n",
    "    fim = time.time()\n",
    "    print(f\"({math.ceil(contador_modelos/qtd_iteracoes)} de {len(algoritmos)}) Processo concluído para o algoritmo {nome_algoritmo} em {fim - inicio:.1f} segundos!\")\n",
    "\n",
    "# Criação de data frame com os resultados\n",
    "resultados = pd.concat(resultados, ignore_index=True)"
   ]
  },
  {
   "cell_type": "markdown",
   "metadata": {},
   "source": [
    "### **Etapa 6: Comparação de modelos**"
   ]
  },
  {
   "cell_type": "markdown",
   "metadata": {},
   "source": [
    "*Gráficos de resumo dos algoritmos*"
   ]
  },
  {
   "cell_type": "code",
   "execution_count": 346,
   "metadata": {},
   "outputs": [
    {
     "data": {
      "image/png": "[encoded data removed]",
      "text/plain": [
       "<Figure size 1000x500 with 1 Axes>"
      ]
     },
     "metadata": {},
     "output_type": "display_data"
    }
   ],
   "source": [
    "# Gráfico do erro médio nos conjuntos de teste interno, em média ao longo das iterações do randomized search\n",
    "resumo_algoritmos = (\n",
    "    resultados\n",
    "    .groupby(\"nome_algoritmo\")[\"media_erro_teste_interno\"]\n",
    "    .mean()\n",
    "    .sort_values(ascending=False)\n",
    ")\n",
    "\n",
    "plt.figure(figsize=(10, 5))\n",
    "plt.barh(resumo_algoritmos.index, resumo_algoritmos.values, color=\"darkturquoise\")\n",
    "plt.title(\"Erro Médio de Teste Interno, em Média ao Longo das Iterações\")\n",
    "plt.tight_layout()\n",
    "plt.show()"
   ]
  },
  {
   "cell_type": "code",
   "execution_count": 347,
   "metadata": {},
   "outputs": [
    {
     "data": {
      "image/png": "[encoded data removed]",
      "text/plain": [
       "<Figure size 1000x500 with 1 Axes>"
      ]
     },
     "metadata": {},
     "output_type": "display_data"
    }
   ],
   "source": [
    "# Gráfico do erro no conjunto de teste externo, em média ao longo das iterações do randomized search\n",
    "resumo_algoritmos = (\n",
    "    resultados\n",
    "    .groupby(\"nome_algoritmo\")[\"erro_teste_externo\"]\n",
    "    .mean()\n",
    "    .sort_values(ascending=False)\n",
    ")\n",
    "\n",
    "plt.figure(figsize=(10, 5))\n",
    "plt.barh(resumo_algoritmos.index, resumo_algoritmos.values, color=\"darkturquoise\")\n",
    "plt.title(\"Erro de Teste Externo, em Média ao Longo das Iterações\")\n",
    "plt.tight_layout()\n",
    "plt.show()"
   ]
  },
  {
   "cell_type": "markdown",
   "metadata": {},
   "source": [
    "*Ordenação e filtragem dos melhores modelos*"
   ]
  },
  {
   "cell_type": "code",
   "execution_count": 381,
   "metadata": {},
   "outputs": [],
   "source": [
    "# Escolha por qual coluna ordenar\n",
    "ordenar_por = \"media_erro_teste_interno\"\n",
    "# ordenar_por = \"var_abs_media_erro_teste_interno\"\n",
    "# ordenar_por = \"var_abs_erro_teste_externo\"\n",
    "\n",
    "# Escolha quais o percentuais máximos de variação de erro (da média do treino para a média do teste interno; e da média do treino para o teste externo)\n",
    "max_var_perc_erro_teste_interno = 0.1\n",
    "max_var_perc_erro_teste_externo = 0.3\n",
    "\n",
    "# Ordenação e filtragem\n",
    "resultados_filt_ord = resultados[(resultados['var_abs_perc_media_erro_teste_interno'] < max_var_perc_erro_teste_interno) & (resultados['var_abs_perc_erro_teste_externo'] < max_var_perc_erro_teste_externo)]\n",
    "resultados_filt_ord = resultados_filt_ord.sort_values(ordenar_por, ascending=True)"
   ]
  },
  {
   "cell_type": "markdown",
   "metadata": {},
   "source": [
    "*Exibição dos melhores modelos, em formato de tabela e gráfico*"
   ]
  },
  {
   "cell_type": "code",
   "execution_count": 382,
   "metadata": {},
   "outputs": [
    {
     "data": {
      "text/html": [
       "<div>\n",
       "<style scoped>\n",
       "    .dataframe tbody tr th:only-of-type {\n",
       "        vertical-align: middle;\n",
       "    }\n",
       "\n",
       "    .dataframe tbody tr th {\n",
       "        vertical-align: top;\n",
       "    }\n",
       "\n",
       "    .dataframe thead th {\n",
       "        text-align: right;\n",
       "    }\n",
       "</style>\n",
       "<table border=\"1\" class=\"dataframe\">\n",
       "  <thead>\n",
       "    <tr style=\"text-align: right;\">\n",
       "      <th></th>\n",
       "      <th>num_modelo</th>\n",
       "      <th>nome_algoritmo</th>\n",
       "      <th>media_erro_treino</th>\n",
       "      <th>dp_erro_treino</th>\n",
       "      <th>media_erro_teste_interno</th>\n",
       "      <th>dp_erro_teste_interno</th>\n",
       "      <th>var_abs_media_erro_teste_interno</th>\n",
       "      <th>var_abs_perc_media_erro_teste_interno</th>\n",
       "      <th>erro_teste_externo</th>\n",
       "      <th>var_abs_erro_teste_externo</th>\n",
       "      <th>var_abs_perc_erro_teste_externo</th>\n",
       "    </tr>\n",
       "  </thead>\n",
       "  <tbody>\n",
       "    <tr>\n",
       "      <th>80</th>\n",
       "      <td>Modelo 80</td>\n",
       "      <td>REGRESSÃO LINEAR VIA GRADIENTE DESCENDENTE</td>\n",
       "      <td>584.324</td>\n",
       "      <td>162.612</td>\n",
       "      <td>605.757</td>\n",
       "      <td>186.591</td>\n",
       "      <td>21.433</td>\n",
       "      <td>0.037</td>\n",
       "      <td>733.153</td>\n",
       "      <td>148.829</td>\n",
       "      <td>0.255</td>\n",
       "    </tr>\n",
       "    <tr>\n",
       "      <th>78</th>\n",
       "      <td>Modelo 78</td>\n",
       "      <td>REGRESSÃO LINEAR VIA GRADIENTE DESCENDENTE</td>\n",
       "      <td>608.570</td>\n",
       "      <td>209.386</td>\n",
       "      <td>633.151</td>\n",
       "      <td>240.181</td>\n",
       "      <td>24.581</td>\n",
       "      <td>0.040</td>\n",
       "      <td>731.988</td>\n",
       "      <td>123.418</td>\n",
       "      <td>0.203</td>\n",
       "    </tr>\n",
       "    <tr>\n",
       "      <th>126</th>\n",
       "      <td>Modelo 126</td>\n",
       "      <td>ADABOOST</td>\n",
       "      <td>653.121</td>\n",
       "      <td>24.631</td>\n",
       "      <td>690.871</td>\n",
       "      <td>27.089</td>\n",
       "      <td>37.749</td>\n",
       "      <td>0.058</td>\n",
       "      <td>842.661</td>\n",
       "      <td>189.540</td>\n",
       "      <td>0.290</td>\n",
       "    </tr>\n",
       "    <tr>\n",
       "      <th>138</th>\n",
       "      <td>Modelo 138</td>\n",
       "      <td>ADABOOST</td>\n",
       "      <td>656.012</td>\n",
       "      <td>35.004</td>\n",
       "      <td>696.158</td>\n",
       "      <td>34.600</td>\n",
       "      <td>40.147</td>\n",
       "      <td>0.061</td>\n",
       "      <td>851.987</td>\n",
       "      <td>195.976</td>\n",
       "      <td>0.299</td>\n",
       "    </tr>\n",
       "    <tr>\n",
       "      <th>134</th>\n",
       "      <td>Modelo 134</td>\n",
       "      <td>ADABOOST</td>\n",
       "      <td>662.234</td>\n",
       "      <td>67.853</td>\n",
       "      <td>700.913</td>\n",
       "      <td>64.732</td>\n",
       "      <td>38.678</td>\n",
       "      <td>0.058</td>\n",
       "      <td>770.299</td>\n",
       "      <td>108.065</td>\n",
       "      <td>0.163</td>\n",
       "    </tr>\n",
       "    <tr>\n",
       "      <th>136</th>\n",
       "      <td>Modelo 136</td>\n",
       "      <td>ADABOOST</td>\n",
       "      <td>676.244</td>\n",
       "      <td>46.302</td>\n",
       "      <td>711.109</td>\n",
       "      <td>33.757</td>\n",
       "      <td>34.865</td>\n",
       "      <td>0.052</td>\n",
       "      <td>868.013</td>\n",
       "      <td>191.769</td>\n",
       "      <td>0.284</td>\n",
       "    </tr>\n",
       "    <tr>\n",
       "      <th>125</th>\n",
       "      <td>Modelo 125</td>\n",
       "      <td>ADABOOST</td>\n",
       "      <td>686.092</td>\n",
       "      <td>41.142</td>\n",
       "      <td>724.937</td>\n",
       "      <td>45.636</td>\n",
       "      <td>38.845</td>\n",
       "      <td>0.057</td>\n",
       "      <td>881.181</td>\n",
       "      <td>195.088</td>\n",
       "      <td>0.284</td>\n",
       "    </tr>\n",
       "    <tr>\n",
       "      <th>131</th>\n",
       "      <td>Modelo 131</td>\n",
       "      <td>ADABOOST</td>\n",
       "      <td>688.381</td>\n",
       "      <td>39.355</td>\n",
       "      <td>729.024</td>\n",
       "      <td>37.090</td>\n",
       "      <td>40.643</td>\n",
       "      <td>0.059</td>\n",
       "      <td>855.725</td>\n",
       "      <td>167.344</td>\n",
       "      <td>0.243</td>\n",
       "    </tr>\n",
       "  </tbody>\n",
       "</table>\n",
       "</div>"
      ],
      "text/plain": [
       "     num_modelo                              nome_algoritmo  \\\n",
       "80    Modelo 80  REGRESSÃO LINEAR VIA GRADIENTE DESCENDENTE   \n",
       "78    Modelo 78  REGRESSÃO LINEAR VIA GRADIENTE DESCENDENTE   \n",
       "126  Modelo 126                                    ADABOOST   \n",
       "138  Modelo 138                                    ADABOOST   \n",
       "134  Modelo 134                                    ADABOOST   \n",
       "136  Modelo 136                                    ADABOOST   \n",
       "125  Modelo 125                                    ADABOOST   \n",
       "131  Modelo 131                                    ADABOOST   \n",
       "\n",
       "     media_erro_treino  dp_erro_treino  media_erro_teste_interno  \\\n",
       "80             584.324         162.612                   605.757   \n",
       "78             608.570         209.386                   633.151   \n",
       "126            653.121          24.631                   690.871   \n",
       "138            656.012          35.004                   696.158   \n",
       "134            662.234          67.853                   700.913   \n",
       "136            676.244          46.302                   711.109   \n",
       "125            686.092          41.142                   724.937   \n",
       "131            688.381          39.355                   729.024   \n",
       "\n",
       "     dp_erro_teste_interno  var_abs_media_erro_teste_interno  \\\n",
       "80                 186.591                            21.433   \n",
       "78                 240.181                            24.581   \n",
       "126                 27.089                            37.749   \n",
       "138                 34.600                            40.147   \n",
       "134                 64.732                            38.678   \n",
       "136                 33.757                            34.865   \n",
       "125                 45.636                            38.845   \n",
       "131                 37.090                            40.643   \n",
       "\n",
       "     var_abs_perc_media_erro_teste_interno  erro_teste_externo  \\\n",
       "80                                   0.037             733.153   \n",
       "78                                   0.040             731.988   \n",
       "126                                  0.058             842.661   \n",
       "138                                  0.061             851.987   \n",
       "134                                  0.058             770.299   \n",
       "136                                  0.052             868.013   \n",
       "125                                  0.057             881.181   \n",
       "131                                  0.059             855.725   \n",
       "\n",
       "     var_abs_erro_teste_externo  var_abs_perc_erro_teste_externo  \n",
       "80                      148.829                            0.255  \n",
       "78                      123.418                            0.203  \n",
       "126                     189.540                            0.290  \n",
       "138                     195.976                            0.299  \n",
       "134                     108.065                            0.163  \n",
       "136                     191.769                            0.284  \n",
       "125                     195.088                            0.284  \n",
       "131                     167.344                            0.243  "
      ]
     },
     "execution_count": 382,
     "metadata": {},
     "output_type": "execute_result"
    }
   ],
   "source": [
    "pd.set_option('display.float_format', '{:.3f}'.format)   # Quantidade de casas decimais\n",
    "resultados_filt_ord[['num_modelo',\n",
    "                     'nome_algoritmo',\n",
    "                     'media_erro_treino',\n",
    "                     'dp_erro_treino',\n",
    "                     'media_erro_teste_interno',\n",
    "                     'dp_erro_teste_interno',\n",
    "                     'var_abs_media_erro_teste_interno',\n",
    "                     'var_abs_perc_media_erro_teste_interno',\n",
    "                     'erro_teste_externo',\n",
    "                     'var_abs_erro_teste_externo',\n",
    "                     'var_abs_perc_erro_teste_externo']].head(10)   # Escolha quantos modelos quer exibir"
   ]
  },
  {
   "cell_type": "code",
   "execution_count": 383,
   "metadata": {},
   "outputs": [
    {
     "data": {
      "image/png": "[encoded data removed]",
      "text/plain": [
       "<Figure size 1800x600 with 1 Axes>"
      ]
     },
     "metadata": {},
     "output_type": "display_data"
    }
   ],
   "source": [
    "dados_grafico = resultados_filt_ord.head(15)    # Escolha quantos modelos quer exibir\n",
    "x_pos = np.arange(len(dados_grafico))           # Posições dos rótulos do eixo X\n",
    "largura_barra = 0.25                            # Largura das barras\n",
    "\n",
    "plt.figure(figsize=(18, 6))\n",
    "plt.bar(x_pos - largura_barra,                  # Série com erro médio de treino\n",
    "        dados_grafico[\"media_erro_treino\"],\n",
    "        width=largura_barra,\n",
    "        label=\"Erro Médio de Treino\",\n",
    "        color=\"lightgray\")\n",
    "plt.bar(x_pos,                                  # Série com erro médio de teste interno\n",
    "        dados_grafico[\"media_erro_teste_interno\"],\n",
    "        width=largura_barra,\n",
    "        label=\"Erro Médio de Teste Interno\",\n",
    "        color=\"darkcyan\")\n",
    "plt.bar(x_pos + largura_barra,                  # Série com erro médio de teste externo\n",
    "        dados_grafico[\"erro_teste_externo\"],\n",
    "        width=largura_barra,\n",
    "        label=\"Erro de Teste Externo\",\n",
    "        color=\"turquoise\")\n",
    "\n",
    "plt.xticks(x_pos,\n",
    "           dados_grafico[\"num_modelo\"],\n",
    "           rotation=0,\n",
    "           ha='center')\n",
    "plt.ylabel(\"Erro\")\n",
    "plt.title(\"Comparativo dos Melhores Modelos: Treino, Teste Interno e Teste Externo\")\n",
    "plt.legend()\n",
    "plt.tight_layout()\n",
    "plt.grid(axis='y', linestyle='--', alpha=0.5)\n",
    "plt.show()"
   ]
  },
  {
   "cell_type": "markdown",
   "metadata": {},
   "source": [
    "### **Etapa 7: Escolha do modelo**"
   ]
  },
  {
   "cell_type": "markdown",
   "metadata": {},
   "source": [
    "*Escolha do modelo*"
   ]
  },
  {
   "cell_type": "code",
   "execution_count": 386,
   "metadata": {},
   "outputs": [],
   "source": [
    "num_modelo_escolhido = \"Modelo 80\""
   ]
  },
  {
   "cell_type": "markdown",
   "metadata": {},
   "source": [
    "*Características do modelo escolhido*"
   ]
  },
  {
   "cell_type": "code",
   "execution_count": 387,
   "metadata": {},
   "outputs": [
    {
     "name": "stdout",
     "output_type": "stream",
     "text": [
      "O modelo final adotado foi construído com o algoritmo REGRESSÃO LINEAR VIA GRADIENTE DESCENDENTE, com hiperparâmetros: {'alpha': np.float64(0.0008), 'eta0': np.float64(0.0119), 'l1_ratio': np.float64(0.5544), 'learning_rate': 'constant', 'penalty': 'elasticnet'}\n"
     ]
    }
   ],
   "source": [
    "linha = resultados.loc[resultados[\"num_modelo\"] == num_modelo_escolhido].squeeze()\n",
    "nome_algoritmo = linha[\"nome_algoritmo\"]\n",
    "hiperparametros = linha[\"hiperparametros\"]\n",
    "classe = algoritmos[nome_algoritmo][0]\n",
    "print(f\"O modelo final adotado foi construído com o algoritmo {nome_algoritmo}, com hiperparâmetros: { {k: round(v, 4) if isinstance(v, float) else v for k, v in hiperparametros.items()} }\")"
   ]
  },
  {
   "cell_type": "markdown",
   "metadata": {},
   "source": [
    "*Retreino do modelo no conjunto de treino completo*"
   ]
  },
  {
   "cell_type": "code",
   "execution_count": 388,
   "metadata": {},
   "outputs": [
    {
     "data": {
      "text/html": [
       "<style>#sk-container-id-7 {\n",
       "  /* Definition of color scheme common for light and dark mode */\n",
       "  --sklearn-color-text: #000;\n",
       "  --sklearn-color-text-muted: #666;\n",
       "  --sklearn-color-line: gray;\n",
       "  /* Definition of color scheme for unfitted estimators */\n",
       "  --sklearn-color-unfitted-level-0: #fff5e6;\n",
       "  --sklearn-color-unfitted-level-1: #f6e4d2;\n",
       "  --sklearn-color-unfitted-level-2: #ffe0b3;\n",
       "  --sklearn-color-unfitted-level-3: chocolate;\n",
       "  /* Definition of color scheme for fitted estimators */\n",
       "  --sklearn-color-fitted-level-0: #f0f8ff;\n",
       "  --sklearn-color-fitted-level-1: #d4ebff;\n",
       "  --sklearn-color-fitted-level-2: #b3dbfd;\n",
       "  --sklearn-color-fitted-level-3: cornflowerblue;\n",
       "\n",
       "  /* Specific color for light theme */\n",
       "  --sklearn-color-text-on-default-background: var(--sg-text-color, var(--theme-code-foreground, var(--jp-content-font-color1, black)));\n",
       "  --sklearn-color-background: var(--sg-background-color, var(--theme-background, var(--jp-layout-color0, white)));\n",
       "  --sklearn-color-border-box: var(--sg-text-color, var(--theme-code-foreground, var(--jp-content-font-color1, black)));\n",
       "  --sklearn-color-icon: #696969;\n",
       "\n",
       "  @media (prefers-color-scheme: dark) {\n",
       "    /* Redefinition of color scheme for dark theme */\n",
       "    --sklearn-color-text-on-default-background: var(--sg-text-color, var(--theme-code-foreground, var(--jp-content-font-color1, white)));\n",
       "    --sklearn-color-background: var(--sg-background-color, var(--theme-background, var(--jp-layout-color0, #111)));\n",
       "    --sklearn-color-border-box: var(--sg-text-color, var(--theme-code-foreground, var(--jp-content-font-color1, white)));\n",
       "    --sklearn-color-icon: #878787;\n",
       "  }\n",
       "}\n",
       "\n",
       "#sk-container-id-7 {\n",
       "  color: var(--sklearn-color-text);\n",
       "}\n",
       "\n",
       "#sk-container-id-7 pre {\n",
       "  padding: 0;\n",
       "}\n",
       "\n",
       "#sk-container-id-7 input.sk-hidden--visually {\n",
       "  border: 0;\n",
       "  clip: rect(1px 1px 1px 1px);\n",
       "  clip: rect(1px, 1px, 1px, 1px);\n",
       "  height: 1px;\n",
       "  margin: -1px;\n",
       "  overflow: hidden;\n",
       "  padding: 0;\n",
       "  position: absolute;\n",
       "  width: 1px;\n",
       "}\n",
       "\n",
       "#sk-container-id-7 div.sk-dashed-wrapped {\n",
       "  border: 1px dashed var(--sklearn-color-line);\n",
       "  margin: 0 0.4em 0.5em 0.4em;\n",
       "  box-sizing: border-box;\n",
       "  padding-bottom: 0.4em;\n",
       "  background-color: var(--sklearn-color-background);\n",
       "}\n",
       "\n",
       "#sk-container-id-7 div.sk-container {\n",
       "  /* jupyter's `normalize.less` sets `[hidden] { display: none; }`\n",
       "     but bootstrap.min.css set `[hidden] { display: none !important; }`\n",
       "     so we also need the `!important` here to be able to override the\n",
       "     default hidden behavior on the sphinx rendered scikit-learn.org.\n",
       "     See: https://github.com/scikit-learn/scikit-learn/issues/21755 */\n",
       "  display: inline-block !important;\n",
       "  position: relative;\n",
       "}\n",
       "\n",
       "#sk-container-id-7 div.sk-text-repr-fallback {\n",
       "  display: none;\n",
       "}\n",
       "\n",
       "div.sk-parallel-item,\n",
       "div.sk-serial,\n",
       "div.sk-item {\n",
       "  /* draw centered vertical line to link estimators */\n",
       "  background-image: linear-gradient(var(--sklearn-color-text-on-default-background), var(--sklearn-color-text-on-default-background));\n",
       "  background-size: 2px 100%;\n",
       "  background-repeat: no-repeat;\n",
       "  background-position: center center;\n",
       "}\n",
       "\n",
       "/* Parallel-specific style estimator block */\n",
       "\n",
       "#sk-container-id-7 div.sk-parallel-item::after {\n",
       "  content: \"\";\n",
       "  width: 100%;\n",
       "  border-bottom: 2px solid var(--sklearn-color-text-on-default-background);\n",
       "  flex-grow: 1;\n",
       "}\n",
       "\n",
       "#sk-container-id-7 div.sk-parallel {\n",
       "  display: flex;\n",
       "  align-items: stretch;\n",
       "  justify-content: center;\n",
       "  background-color: var(--sklearn-color-background);\n",
       "  position: relative;\n",
       "}\n",
       "\n",
       "#sk-container-id-7 div.sk-parallel-item {\n",
       "  display: flex;\n",
       "  flex-direction: column;\n",
       "}\n",
       "\n",
       "#sk-container-id-7 div.sk-parallel-item:first-child::after {\n",
       "  align-self: flex-end;\n",
       "  width: 50%;\n",
       "}\n",
       "\n",
       "#sk-container-id-7 div.sk-parallel-item:last-child::after {\n",
       "  align-self: flex-start;\n",
       "  width: 50%;\n",
       "}\n",
       "\n",
       "#sk-container-id-7 div.sk-parallel-item:only-child::after {\n",
       "  width: 0;\n",
       "}\n",
       "\n",
       "/* Serial-specific style estimator block */\n",
       "\n",
       "#sk-container-id-7 div.sk-serial {\n",
       "  display: flex;\n",
       "  flex-direction: column;\n",
       "  align-items: center;\n",
       "  background-color: var(--sklearn-color-background);\n",
       "  padding-right: 1em;\n",
       "  padding-left: 1em;\n",
       "}\n",
       "\n",
       "\n",
       "/* Toggleable style: style used for estimator/Pipeline/ColumnTransformer box that is\n",
       "clickable and can be expanded/collapsed.\n",
       "- Pipeline and ColumnTransformer use this feature and define the default style\n",
       "- Estimators will overwrite some part of the style using the `sk-estimator` class\n",
       "*/\n",
       "\n",
       "/* Pipeline and ColumnTransformer style (default) */\n",
       "\n",
       "#sk-container-id-7 div.sk-toggleable {\n",
       "  /* Default theme specific background. It is overwritten whether we have a\n",
       "  specific estimator or a Pipeline/ColumnTransformer */\n",
       "  background-color: var(--sklearn-color-background);\n",
       "}\n",
       "\n",
       "/* Toggleable label */\n",
       "#sk-container-id-7 label.sk-toggleable__label {\n",
       "  cursor: pointer;\n",
       "  display: flex;\n",
       "  width: 100%;\n",
       "  margin-bottom: 0;\n",
       "  padding: 0.5em;\n",
       "  box-sizing: border-box;\n",
       "  text-align: center;\n",
       "  align-items: start;\n",
       "  justify-content: space-between;\n",
       "  gap: 0.5em;\n",
       "}\n",
       "\n",
       "#sk-container-id-7 label.sk-toggleable__label .caption {\n",
       "  font-size: 0.6rem;\n",
       "  font-weight: lighter;\n",
       "  color: var(--sklearn-color-text-muted);\n",
       "}\n",
       "\n",
       "#sk-container-id-7 label.sk-toggleable__label-arrow:before {\n",
       "  /* Arrow on the left of the label */\n",
       "  content: \"▸\";\n",
       "  float: left;\n",
       "  margin-right: 0.25em;\n",
       "  color: var(--sklearn-color-icon);\n",
       "}\n",
       "\n",
       "#sk-container-id-7 label.sk-toggleable__label-arrow:hover:before {\n",
       "  color: var(--sklearn-color-text);\n",
       "}\n",
       "\n",
       "/* Toggleable content - dropdown */\n",
       "\n",
       "#sk-container-id-7 div.sk-toggleable__content {\n",
       "  display: none;\n",
       "  text-align: left;\n",
       "  /* unfitted */\n",
       "  background-color: var(--sklearn-color-unfitted-level-0);\n",
       "}\n",
       "\n",
       "#sk-container-id-7 div.sk-toggleable__content.fitted {\n",
       "  /* fitted */\n",
       "  background-color: var(--sklearn-color-fitted-level-0);\n",
       "}\n",
       "\n",
       "#sk-container-id-7 div.sk-toggleable__content pre {\n",
       "  margin: 0.2em;\n",
       "  border-radius: 0.25em;\n",
       "  color: var(--sklearn-color-text);\n",
       "  /* unfitted */\n",
       "  background-color: var(--sklearn-color-unfitted-level-0);\n",
       "}\n",
       "\n",
       "#sk-container-id-7 div.sk-toggleable__content.fitted pre {\n",
       "  /* unfitted */\n",
       "  background-color: var(--sklearn-color-fitted-level-0);\n",
       "}\n",
       "\n",
       "#sk-container-id-7 input.sk-toggleable__control:checked~div.sk-toggleable__content {\n",
       "  /* Expand drop-down */\n",
       "  display: block;\n",
       "  width: 100%;\n",
       "  overflow: visible;\n",
       "}\n",
       "\n",
       "#sk-container-id-7 input.sk-toggleable__control:checked~label.sk-toggleable__label-arrow:before {\n",
       "  content: \"▾\";\n",
       "}\n",
       "\n",
       "/* Pipeline/ColumnTransformer-specific style */\n",
       "\n",
       "#sk-container-id-7 div.sk-label input.sk-toggleable__control:checked~label.sk-toggleable__label {\n",
       "  color: var(--sklearn-color-text);\n",
       "  background-color: var(--sklearn-color-unfitted-level-2);\n",
       "}\n",
       "\n",
       "#sk-container-id-7 div.sk-label.fitted input.sk-toggleable__control:checked~label.sk-toggleable__label {\n",
       "  background-color: var(--sklearn-color-fitted-level-2);\n",
       "}\n",
       "\n",
       "/* Estimator-specific style */\n",
       "\n",
       "/* Colorize estimator box */\n",
       "#sk-container-id-7 div.sk-estimator input.sk-toggleable__control:checked~label.sk-toggleable__label {\n",
       "  /* unfitted */\n",
       "  background-color: var(--sklearn-color-unfitted-level-2);\n",
       "}\n",
       "\n",
       "#sk-container-id-7 div.sk-estimator.fitted input.sk-toggleable__control:checked~label.sk-toggleable__label {\n",
       "  /* fitted */\n",
       "  background-color: var(--sklearn-color-fitted-level-2);\n",
       "}\n",
       "\n",
       "#sk-container-id-7 div.sk-label label.sk-toggleable__label,\n",
       "#sk-container-id-7 div.sk-label label {\n",
       "  /* The background is the default theme color */\n",
       "  color: var(--sklearn-color-text-on-default-background);\n",
       "}\n",
       "\n",
       "/* On hover, darken the color of the background */\n",
       "#sk-container-id-7 div.sk-label:hover label.sk-toggleable__label {\n",
       "  color: var(--sklearn-color-text);\n",
       "  background-color: var(--sklearn-color-unfitted-level-2);\n",
       "}\n",
       "\n",
       "/* Label box, darken color on hover, fitted */\n",
       "#sk-container-id-7 div.sk-label.fitted:hover label.sk-toggleable__label.fitted {\n",
       "  color: var(--sklearn-color-text);\n",
       "  background-color: var(--sklearn-color-fitted-level-2);\n",
       "}\n",
       "\n",
       "/* Estimator label */\n",
       "\n",
       "#sk-container-id-7 div.sk-label label {\n",
       "  font-family: monospace;\n",
       "  font-weight: bold;\n",
       "  display: inline-block;\n",
       "  line-height: 1.2em;\n",
       "}\n",
       "\n",
       "#sk-container-id-7 div.sk-label-container {\n",
       "  text-align: center;\n",
       "}\n",
       "\n",
       "/* Estimator-specific */\n",
       "#sk-container-id-7 div.sk-estimator {\n",
       "  font-family: monospace;\n",
       "  border: 1px dotted var(--sklearn-color-border-box);\n",
       "  border-radius: 0.25em;\n",
       "  box-sizing: border-box;\n",
       "  margin-bottom: 0.5em;\n",
       "  /* unfitted */\n",
       "  background-color: var(--sklearn-color-unfitted-level-0);\n",
       "}\n",
       "\n",
       "#sk-container-id-7 div.sk-estimator.fitted {\n",
       "  /* fitted */\n",
       "  background-color: var(--sklearn-color-fitted-level-0);\n",
       "}\n",
       "\n",
       "/* on hover */\n",
       "#sk-container-id-7 div.sk-estimator:hover {\n",
       "  /* unfitted */\n",
       "  background-color: var(--sklearn-color-unfitted-level-2);\n",
       "}\n",
       "\n",
       "#sk-container-id-7 div.sk-estimator.fitted:hover {\n",
       "  /* fitted */\n",
       "  background-color: var(--sklearn-color-fitted-level-2);\n",
       "}\n",
       "\n",
       "/* Specification for estimator info (e.g. \"i\" and \"?\") */\n",
       "\n",
       "/* Common style for \"i\" and \"?\" */\n",
       "\n",
       ".sk-estimator-doc-link,\n",
       "a:link.sk-estimator-doc-link,\n",
       "a:visited.sk-estimator-doc-link {\n",
       "  float: right;\n",
       "  font-size: smaller;\n",
       "  line-height: 1em;\n",
       "  font-family: monospace;\n",
       "  background-color: var(--sklearn-color-background);\n",
       "  border-radius: 1em;\n",
       "  height: 1em;\n",
       "  width: 1em;\n",
       "  text-decoration: none !important;\n",
       "  margin-left: 0.5em;\n",
       "  text-align: center;\n",
       "  /* unfitted */\n",
       "  border: var(--sklearn-color-unfitted-level-1) 1pt solid;\n",
       "  color: var(--sklearn-color-unfitted-level-1);\n",
       "}\n",
       "\n",
       ".sk-estimator-doc-link.fitted,\n",
       "a:link.sk-estimator-doc-link.fitted,\n",
       "a:visited.sk-estimator-doc-link.fitted {\n",
       "  /* fitted */\n",
       "  border: var(--sklearn-color-fitted-level-1) 1pt solid;\n",
       "  color: var(--sklearn-color-fitted-level-1);\n",
       "}\n",
       "\n",
       "/* On hover */\n",
       "div.sk-estimator:hover .sk-estimator-doc-link:hover,\n",
       ".sk-estimator-doc-link:hover,\n",
       "div.sk-label-container:hover .sk-estimator-doc-link:hover,\n",
       ".sk-estimator-doc-link:hover {\n",
       "  /* unfitted */\n",
       "  background-color: var(--sklearn-color-unfitted-level-3);\n",
       "  color: var(--sklearn-color-background);\n",
       "  text-decoration: none;\n",
       "}\n",
       "\n",
       "div.sk-estimator.fitted:hover .sk-estimator-doc-link.fitted:hover,\n",
       ".sk-estimator-doc-link.fitted:hover,\n",
       "div.sk-label-container:hover .sk-estimator-doc-link.fitted:hover,\n",
       ".sk-estimator-doc-link.fitted:hover {\n",
       "  /* fitted */\n",
       "  background-color: var(--sklearn-color-fitted-level-3);\n",
       "  color: var(--sklearn-color-background);\n",
       "  text-decoration: none;\n",
       "}\n",
       "\n",
       "/* Span, style for the box shown on hovering the info icon */\n",
       ".sk-estimator-doc-link span {\n",
       "  display: none;\n",
       "  z-index: 9999;\n",
       "  position: relative;\n",
       "  font-weight: normal;\n",
       "  right: .2ex;\n",
       "  padding: .5ex;\n",
       "  margin: .5ex;\n",
       "  width: min-content;\n",
       "  min-width: 20ex;\n",
       "  max-width: 50ex;\n",
       "  color: var(--sklearn-color-text);\n",
       "  box-shadow: 2pt 2pt 4pt #999;\n",
       "  /* unfitted */\n",
       "  background: var(--sklearn-color-unfitted-level-0);\n",
       "  border: .5pt solid var(--sklearn-color-unfitted-level-3);\n",
       "}\n",
       "\n",
       ".sk-estimator-doc-link.fitted span {\n",
       "  /* fitted */\n",
       "  background: var(--sklearn-color-fitted-level-0);\n",
       "  border: var(--sklearn-color-fitted-level-3);\n",
       "}\n",
       "\n",
       ".sk-estimator-doc-link:hover span {\n",
       "  display: block;\n",
       "}\n",
       "\n",
       "/* \"?\"-specific style due to the `<a>` HTML tag */\n",
       "\n",
       "#sk-container-id-7 a.estimator_doc_link {\n",
       "  float: right;\n",
       "  font-size: 1rem;\n",
       "  line-height: 1em;\n",
       "  font-family: monospace;\n",
       "  background-color: var(--sklearn-color-background);\n",
       "  border-radius: 1rem;\n",
       "  height: 1rem;\n",
       "  width: 1rem;\n",
       "  text-decoration: none;\n",
       "  /* unfitted */\n",
       "  color: var(--sklearn-color-unfitted-level-1);\n",
       "  border: var(--sklearn-color-unfitted-level-1) 1pt solid;\n",
       "}\n",
       "\n",
       "#sk-container-id-7 a.estimator_doc_link.fitted {\n",
       "  /* fitted */\n",
       "  border: var(--sklearn-color-fitted-level-1) 1pt solid;\n",
       "  color: var(--sklearn-color-fitted-level-1);\n",
       "}\n",
       "\n",
       "/* On hover */\n",
       "#sk-container-id-7 a.estimator_doc_link:hover {\n",
       "  /* unfitted */\n",
       "  background-color: var(--sklearn-color-unfitted-level-3);\n",
       "  color: var(--sklearn-color-background);\n",
       "  text-decoration: none;\n",
       "}\n",
       "\n",
       "#sk-container-id-7 a.estimator_doc_link.fitted:hover {\n",
       "  /* fitted */\n",
       "  background-color: var(--sklearn-color-fitted-level-3);\n",
       "}\n",
       "\n",
       ".estimator-table summary {\n",
       "    padding: .5rem;\n",
       "    font-family: monospace;\n",
       "    cursor: pointer;\n",
       "}\n",
       "\n",
       ".estimator-table details[open] {\n",
       "    padding-left: 0.1rem;\n",
       "    padding-right: 0.1rem;\n",
       "    padding-bottom: 0.3rem;\n",
       "}\n",
       "\n",
       ".estimator-table .parameters-table {\n",
       "    margin-left: auto !important;\n",
       "    margin-right: auto !important;\n",
       "}\n",
       "\n",
       ".estimator-table .parameters-table tr:nth-child(odd) {\n",
       "    background-color: #fff;\n",
       "}\n",
       "\n",
       ".estimator-table .parameters-table tr:nth-child(even) {\n",
       "    background-color: #f6f6f6;\n",
       "}\n",
       "\n",
       ".estimator-table .parameters-table tr:hover {\n",
       "    background-color: #e0e0e0;\n",
       "}\n",
       "\n",
       ".estimator-table table td {\n",
       "    border: 1px solid rgba(106, 105, 104, 0.232);\n",
       "}\n",
       "\n",
       ".user-set td {\n",
       "    color:rgb(255, 94, 0);\n",
       "    text-align: left;\n",
       "}\n",
       "\n",
       ".user-set td.value pre {\n",
       "    color:rgb(255, 94, 0) !important;\n",
       "    background-color: transparent !important;\n",
       "}\n",
       "\n",
       ".default td {\n",
       "    color: black;\n",
       "    text-align: left;\n",
       "}\n",
       "\n",
       ".user-set td i,\n",
       ".default td i {\n",
       "    color: black;\n",
       "}\n",
       "\n",
       ".copy-paste-icon {\n",
       "    background-image: url(data:image/svg+xml;base64,PHN2ZyB4bWxucz0iaHR0cDovL3d3dy53My5vcmcvMjAwMC9zdmciIHZpZXdCb3g9IjAgMCA0NDggNTEyIj48IS0tIUZvbnQgQXdlc29tZSBGcmVlIDYuNy4yIGJ5IEBmb250YXdlc29tZSAtIGh0dHBzOi8vZm9udGF3ZXNvbWUuY29tIExpY2Vuc2UgLSBodHRwczovL2ZvbnRhd2Vzb21lLmNvbS9saWNlbnNlL2ZyZWUgQ29weXJpZ2h0IDIwMjUgRm9udGljb25zLCBJbmMuLS0+PHBhdGggZD0iTTIwOCAwTDMzMi4xIDBjMTIuNyAwIDI0LjkgNS4xIDMzLjkgMTQuMWw2Ny45IDY3LjljOSA5IDE0LjEgMjEuMiAxNC4xIDMzLjlMNDQ4IDMzNmMwIDI2LjUtMjEuNSA0OC00OCA0OGwtMTkyIDBjLTI2LjUgMC00OC0yMS41LTQ4LTQ4bDAtMjg4YzAtMjYuNSAyMS41LTQ4IDQ4LTQ4ek00OCAxMjhsODAgMCAwIDY0LTY0IDAgMCAyNTYgMTkyIDAgMC0zMiA2NCAwIDAgNDhjMCAyNi41LTIxLjUgNDgtNDggNDhMNDggNTEyYy0yNi41IDAtNDgtMjEuNS00OC00OEwwIDE3NmMwLTI2LjUgMjEuNS00OCA0OC00OHoiLz48L3N2Zz4=);\n",
       "    background-repeat: no-repeat;\n",
       "    background-size: 14px 14px;\n",
       "    background-position: 0;\n",
       "    display: inline-block;\n",
       "    width: 14px;\n",
       "    height: 14px;\n",
       "    cursor: pointer;\n",
       "}\n",
       "</style><body><div id=\"sk-container-id-7\" class=\"sk-top-container\"><div class=\"sk-text-repr-fallback\"><pre>SGDRegressor(alpha=np.float64(0.0008177085867368811),\n",
       "             eta0=np.float64(0.01190997600729943),\n",
       "             l1_ratio=np.float64(0.5543832497177721), learning_rate=&#x27;constant&#x27;,\n",
       "             max_iter=10000, penalty=&#x27;elasticnet&#x27;, random_state=123)</pre><b>In a Jupyter environment, please rerun this cell to show the HTML representation or trust the notebook. <br />On GitHub, the HTML representation is unable to render, please try loading this page with nbviewer.org.</b></div><div class=\"sk-container\" hidden><div class=\"sk-item\"><div class=\"sk-estimator fitted sk-toggleable\"><input class=\"sk-toggleable__control sk-hidden--visually\" id=\"sk-estimator-id-7\" type=\"checkbox\" checked><label for=\"sk-estimator-id-7\" class=\"sk-toggleable__label fitted sk-toggleable__label-arrow\"><div><div>SGDRegressor</div></div><div><a class=\"sk-estimator-doc-link fitted\" rel=\"noreferrer\" target=\"_blank\" href=\"https://scikit-learn.org/1.7/modules/generated/sklearn.linear_model.SGDRegressor.html\">?<span>Documentation for SGDRegressor</span></a><span class=\"sk-estimator-doc-link fitted\">i<span>Fitted</span></span></div></label><div class=\"sk-toggleable__content fitted\" data-param-prefix=\"\">\n",
       "        <div class=\"estimator-table\">\n",
       "            <details>\n",
       "                <summary>Parameters</summary>\n",
       "                <table class=\"parameters-table\">\n",
       "                  <tbody>\n",
       "                    \n",
       "        <tr class=\"default\">\n",
       "            <td><i class=\"copy-paste-icon\"\n",
       "                 onclick=\"copyToClipboard('loss',\n",
       "                          this.parentElement.nextElementSibling)\"\n",
       "            ></i></td>\n",
       "            <td class=\"param\">loss&nbsp;</td>\n",
       "            <td class=\"value\">&#x27;squared_error&#x27;</td>\n",
       "        </tr>\n",
       "    \n",
       "\n",
       "        <tr class=\"user-set\">\n",
       "            <td><i class=\"copy-paste-icon\"\n",
       "                 onclick=\"copyToClipboard('penalty',\n",
       "                          this.parentElement.nextElementSibling)\"\n",
       "            ></i></td>\n",
       "            <td class=\"param\">penalty&nbsp;</td>\n",
       "            <td class=\"value\">&#x27;elasticnet&#x27;</td>\n",
       "        </tr>\n",
       "    \n",
       "\n",
       "        <tr class=\"user-set\">\n",
       "            <td><i class=\"copy-paste-icon\"\n",
       "                 onclick=\"copyToClipboard('alpha',\n",
       "                          this.parentElement.nextElementSibling)\"\n",
       "            ></i></td>\n",
       "            <td class=\"param\">alpha&nbsp;</td>\n",
       "            <td class=\"value\">np.float64(0....7085867368811)</td>\n",
       "        </tr>\n",
       "    \n",
       "\n",
       "        <tr class=\"user-set\">\n",
       "            <td><i class=\"copy-paste-icon\"\n",
       "                 onclick=\"copyToClipboard('l1_ratio',\n",
       "                          this.parentElement.nextElementSibling)\"\n",
       "            ></i></td>\n",
       "            <td class=\"param\">l1_ratio&nbsp;</td>\n",
       "            <td class=\"value\">np.float64(0.5543832497177721)</td>\n",
       "        </tr>\n",
       "    \n",
       "\n",
       "        <tr class=\"default\">\n",
       "            <td><i class=\"copy-paste-icon\"\n",
       "                 onclick=\"copyToClipboard('fit_intercept',\n",
       "                          this.parentElement.nextElementSibling)\"\n",
       "            ></i></td>\n",
       "            <td class=\"param\">fit_intercept&nbsp;</td>\n",
       "            <td class=\"value\">True</td>\n",
       "        </tr>\n",
       "    \n",
       "\n",
       "        <tr class=\"user-set\">\n",
       "            <td><i class=\"copy-paste-icon\"\n",
       "                 onclick=\"copyToClipboard('max_iter',\n",
       "                          this.parentElement.nextElementSibling)\"\n",
       "            ></i></td>\n",
       "            <td class=\"param\">max_iter&nbsp;</td>\n",
       "            <td class=\"value\">10000</td>\n",
       "        </tr>\n",
       "    \n",
       "\n",
       "        <tr class=\"default\">\n",
       "            <td><i class=\"copy-paste-icon\"\n",
       "                 onclick=\"copyToClipboard('tol',\n",
       "                          this.parentElement.nextElementSibling)\"\n",
       "            ></i></td>\n",
       "            <td class=\"param\">tol&nbsp;</td>\n",
       "            <td class=\"value\">0.001</td>\n",
       "        </tr>\n",
       "    \n",
       "\n",
       "        <tr class=\"default\">\n",
       "            <td><i class=\"copy-paste-icon\"\n",
       "                 onclick=\"copyToClipboard('shuffle',\n",
       "                          this.parentElement.nextElementSibling)\"\n",
       "            ></i></td>\n",
       "            <td class=\"param\">shuffle&nbsp;</td>\n",
       "            <td class=\"value\">True</td>\n",
       "        </tr>\n",
       "    \n",
       "\n",
       "        <tr class=\"default\">\n",
       "            <td><i class=\"copy-paste-icon\"\n",
       "                 onclick=\"copyToClipboard('verbose',\n",
       "                          this.parentElement.nextElementSibling)\"\n",
       "            ></i></td>\n",
       "            <td class=\"param\">verbose&nbsp;</td>\n",
       "            <td class=\"value\">0</td>\n",
       "        </tr>\n",
       "    \n",
       "\n",
       "        <tr class=\"default\">\n",
       "            <td><i class=\"copy-paste-icon\"\n",
       "                 onclick=\"copyToClipboard('epsilon',\n",
       "                          this.parentElement.nextElementSibling)\"\n",
       "            ></i></td>\n",
       "            <td class=\"param\">epsilon&nbsp;</td>\n",
       "            <td class=\"value\">0.1</td>\n",
       "        </tr>\n",
       "    \n",
       "\n",
       "        <tr class=\"user-set\">\n",
       "            <td><i class=\"copy-paste-icon\"\n",
       "                 onclick=\"copyToClipboard('random_state',\n",
       "                          this.parentElement.nextElementSibling)\"\n",
       "            ></i></td>\n",
       "            <td class=\"param\">random_state&nbsp;</td>\n",
       "            <td class=\"value\">123</td>\n",
       "        </tr>\n",
       "    \n",
       "\n",
       "        <tr class=\"user-set\">\n",
       "            <td><i class=\"copy-paste-icon\"\n",
       "                 onclick=\"copyToClipboard('learning_rate',\n",
       "                          this.parentElement.nextElementSibling)\"\n",
       "            ></i></td>\n",
       "            <td class=\"param\">learning_rate&nbsp;</td>\n",
       "            <td class=\"value\">&#x27;constant&#x27;</td>\n",
       "        </tr>\n",
       "    \n",
       "\n",
       "        <tr class=\"user-set\">\n",
       "            <td><i class=\"copy-paste-icon\"\n",
       "                 onclick=\"copyToClipboard('eta0',\n",
       "                          this.parentElement.nextElementSibling)\"\n",
       "            ></i></td>\n",
       "            <td class=\"param\">eta0&nbsp;</td>\n",
       "            <td class=\"value\">np.float64(0....0997600729943)</td>\n",
       "        </tr>\n",
       "    \n",
       "\n",
       "        <tr class=\"default\">\n",
       "            <td><i class=\"copy-paste-icon\"\n",
       "                 onclick=\"copyToClipboard('power_t',\n",
       "                          this.parentElement.nextElementSibling)\"\n",
       "            ></i></td>\n",
       "            <td class=\"param\">power_t&nbsp;</td>\n",
       "            <td class=\"value\">0.25</td>\n",
       "        </tr>\n",
       "    \n",
       "\n",
       "        <tr class=\"default\">\n",
       "            <td><i class=\"copy-paste-icon\"\n",
       "                 onclick=\"copyToClipboard('early_stopping',\n",
       "                          this.parentElement.nextElementSibling)\"\n",
       "            ></i></td>\n",
       "            <td class=\"param\">early_stopping&nbsp;</td>\n",
       "            <td class=\"value\">False</td>\n",
       "        </tr>\n",
       "    \n",
       "\n",
       "        <tr class=\"default\">\n",
       "            <td><i class=\"copy-paste-icon\"\n",
       "                 onclick=\"copyToClipboard('validation_fraction',\n",
       "                          this.parentElement.nextElementSibling)\"\n",
       "            ></i></td>\n",
       "            <td class=\"param\">validation_fraction&nbsp;</td>\n",
       "            <td class=\"value\">0.1</td>\n",
       "        </tr>\n",
       "    \n",
       "\n",
       "        <tr class=\"default\">\n",
       "            <td><i class=\"copy-paste-icon\"\n",
       "                 onclick=\"copyToClipboard('n_iter_no_change',\n",
       "                          this.parentElement.nextElementSibling)\"\n",
       "            ></i></td>\n",
       "            <td class=\"param\">n_iter_no_change&nbsp;</td>\n",
       "            <td class=\"value\">5</td>\n",
       "        </tr>\n",
       "    \n",
       "\n",
       "        <tr class=\"default\">\n",
       "            <td><i class=\"copy-paste-icon\"\n",
       "                 onclick=\"copyToClipboard('warm_start',\n",
       "                          this.parentElement.nextElementSibling)\"\n",
       "            ></i></td>\n",
       "            <td class=\"param\">warm_start&nbsp;</td>\n",
       "            <td class=\"value\">False</td>\n",
       "        </tr>\n",
       "    \n",
       "\n",
       "        <tr class=\"default\">\n",
       "            <td><i class=\"copy-paste-icon\"\n",
       "                 onclick=\"copyToClipboard('average',\n",
       "                          this.parentElement.nextElementSibling)\"\n",
       "            ></i></td>\n",
       "            <td class=\"param\">average&nbsp;</td>\n",
       "            <td class=\"value\">False</td>\n",
       "        </tr>\n",
       "    \n",
       "                  </tbody>\n",
       "                </table>\n",
       "            </details>\n",
       "        </div>\n",
       "    </div></div></div></div></div><script>function copyToClipboard(text, element) {\n",
       "    // Get the parameter prefix from the closest toggleable content\n",
       "    const toggleableContent = element.closest('.sk-toggleable__content');\n",
       "    const paramPrefix = toggleableContent ? toggleableContent.dataset.paramPrefix : '';\n",
       "    const fullParamName = paramPrefix ? `${paramPrefix}${text}` : text;\n",
       "\n",
       "    const originalStyle = element.style;\n",
       "    const computedStyle = window.getComputedStyle(element);\n",
       "    const originalWidth = computedStyle.width;\n",
       "    const originalHTML = element.innerHTML.replace('Copied!', '');\n",
       "\n",
       "    navigator.clipboard.writeText(fullParamName)\n",
       "        .then(() => {\n",
       "            element.style.width = originalWidth;\n",
       "            element.style.color = 'green';\n",
       "            element.innerHTML = \"Copied!\";\n",
       "\n",
       "            setTimeout(() => {\n",
       "                element.innerHTML = originalHTML;\n",
       "                element.style = originalStyle;\n",
       "            }, 2000);\n",
       "        })\n",
       "        .catch(err => {\n",
       "            console.error('Failed to copy:', err);\n",
       "            element.style.color = 'red';\n",
       "            element.innerHTML = \"Failed!\";\n",
       "            setTimeout(() => {\n",
       "                element.innerHTML = originalHTML;\n",
       "                element.style = originalStyle;\n",
       "            }, 2000);\n",
       "        });\n",
       "    return false;\n",
       "}\n",
       "\n",
       "document.querySelectorAll('.fa-regular.fa-copy').forEach(function(element) {\n",
       "    const toggleableContent = element.closest('.sk-toggleable__content');\n",
       "    const paramPrefix = toggleableContent ? toggleableContent.dataset.paramPrefix : '';\n",
       "    const paramName = element.parentElement.nextElementSibling.textContent.trim();\n",
       "    const fullParamName = paramPrefix ? `${paramPrefix}${paramName}` : paramName;\n",
       "\n",
       "    element.setAttribute('title', fullParamName);\n",
       "});\n",
       "</script></body>"
      ],
      "text/plain": [
       "SGDRegressor(alpha=np.float64(0.0008177085867368811),\n",
       "             eta0=np.float64(0.01190997600729943),\n",
       "             l1_ratio=np.float64(0.5543832497177721), learning_rate='constant',\n",
       "             max_iter=10000, penalty='elasticnet', random_state=123)"
      ]
     },
     "execution_count": 388,
     "metadata": {},
     "output_type": "execute_result"
    }
   ],
   "source": [
    "modelo_final = classe.set_params(**hiperparametros)\n",
    "modelo_final.fit(X_treino_tratada, y_treino)"
   ]
  },
  {
   "cell_type": "markdown",
   "metadata": {},
   "source": [
    "*Coeficientes do modelo*"
   ]
  },
  {
   "cell_type": "code",
   "execution_count": 389,
   "metadata": {},
   "outputs": [
    {
     "data": {
      "text/html": [
       "<div>\n",
       "<style scoped>\n",
       "    .dataframe tbody tr th:only-of-type {\n",
       "        vertical-align: middle;\n",
       "    }\n",
       "\n",
       "    .dataframe tbody tr th {\n",
       "        vertical-align: top;\n",
       "    }\n",
       "\n",
       "    .dataframe thead th {\n",
       "        text-align: right;\n",
       "    }\n",
       "</style>\n",
       "<table border=\"1\" class=\"dataframe\">\n",
       "  <thead>\n",
       "    <tr style=\"text-align: right;\">\n",
       "      <th></th>\n",
       "      <th>NOME_VARIAVEL</th>\n",
       "      <th>COEF_ESTIMADO</th>\n",
       "      <th>COEF_ESTIMADO_ABS</th>\n",
       "    </tr>\n",
       "  </thead>\n",
       "  <tbody>\n",
       "    <tr>\n",
       "      <th>3</th>\n",
       "      <td>QTD_TRANSACOES_3M</td>\n",
       "      <td>1348.576</td>\n",
       "      <td>1348.576</td>\n",
       "    </tr>\n",
       "    <tr>\n",
       "      <th>5</th>\n",
       "      <td>VALOR_GASTO_3M</td>\n",
       "      <td>370.511</td>\n",
       "      <td>370.511</td>\n",
       "    </tr>\n",
       "    <tr>\n",
       "      <th>1</th>\n",
       "      <td>RENDA_MENSAL_CLIENTE</td>\n",
       "      <td>364.521</td>\n",
       "      <td>364.521</td>\n",
       "    </tr>\n",
       "    <tr>\n",
       "      <th>6</th>\n",
       "      <td>TICKET_MEDIO_3M</td>\n",
       "      <td>357.195</td>\n",
       "      <td>357.195</td>\n",
       "    </tr>\n",
       "    <tr>\n",
       "      <th>11</th>\n",
       "      <td>SATISFACAO_ULTIMA_COMPRA_05_Muito_Insatisfeito</td>\n",
       "      <td>-245.896</td>\n",
       "      <td>245.896</td>\n",
       "    </tr>\n",
       "    <tr>\n",
       "      <th>7</th>\n",
       "      <td>FLAG_ELETRONICOS_3M_1</td>\n",
       "      <td>209.690</td>\n",
       "      <td>209.690</td>\n",
       "    </tr>\n",
       "    <tr>\n",
       "      <th>4</th>\n",
       "      <td>QTD_ITENS_3M</td>\n",
       "      <td>178.961</td>\n",
       "      <td>178.961</td>\n",
       "    </tr>\n",
       "    <tr>\n",
       "      <th>10</th>\n",
       "      <td>SATISFACAO_ULTIMA_COMPRA_04_Insatisfeito</td>\n",
       "      <td>-154.730</td>\n",
       "      <td>154.730</td>\n",
       "    </tr>\n",
       "    <tr>\n",
       "      <th>12</th>\n",
       "      <td>SATISFACAO_ULTIMA_COMPRA_Nao_Respondeu</td>\n",
       "      <td>-147.443</td>\n",
       "      <td>147.443</td>\n",
       "    </tr>\n",
       "    <tr>\n",
       "      <th>0</th>\n",
       "      <td>IDADE_CLIENTE</td>\n",
       "      <td>132.062</td>\n",
       "      <td>132.062</td>\n",
       "    </tr>\n",
       "    <tr>\n",
       "      <th>9</th>\n",
       "      <td>SATISFACAO_ULTIMA_COMPRA_03_Neutro</td>\n",
       "      <td>-84.907</td>\n",
       "      <td>84.907</td>\n",
       "    </tr>\n",
       "    <tr>\n",
       "      <th>8</th>\n",
       "      <td>SATISFACAO_ULTIMA_COMPRA_02_Satisfeito</td>\n",
       "      <td>-47.332</td>\n",
       "      <td>47.332</td>\n",
       "    </tr>\n",
       "    <tr>\n",
       "      <th>2</th>\n",
       "      <td>BEHAVIOUR_SCORE_CLIENTE</td>\n",
       "      <td>46.458</td>\n",
       "      <td>46.458</td>\n",
       "    </tr>\n",
       "  </tbody>\n",
       "</table>\n",
       "</div>"
      ],
      "text/plain": [
       "                                     NOME_VARIAVEL  COEF_ESTIMADO  \\\n",
       "3                                QTD_TRANSACOES_3M       1348.576   \n",
       "5                                   VALOR_GASTO_3M        370.511   \n",
       "1                             RENDA_MENSAL_CLIENTE        364.521   \n",
       "6                                  TICKET_MEDIO_3M        357.195   \n",
       "11  SATISFACAO_ULTIMA_COMPRA_05_Muito_Insatisfeito       -245.896   \n",
       "7                            FLAG_ELETRONICOS_3M_1        209.690   \n",
       "4                                     QTD_ITENS_3M        178.961   \n",
       "10        SATISFACAO_ULTIMA_COMPRA_04_Insatisfeito       -154.730   \n",
       "12          SATISFACAO_ULTIMA_COMPRA_Nao_Respondeu       -147.443   \n",
       "0                                    IDADE_CLIENTE        132.062   \n",
       "9               SATISFACAO_ULTIMA_COMPRA_03_Neutro        -84.907   \n",
       "8           SATISFACAO_ULTIMA_COMPRA_02_Satisfeito        -47.332   \n",
       "2                          BEHAVIOUR_SCORE_CLIENTE         46.458   \n",
       "\n",
       "    COEF_ESTIMADO_ABS  \n",
       "3            1348.576  \n",
       "5             370.511  \n",
       "1             364.521  \n",
       "6             357.195  \n",
       "11            245.896  \n",
       "7             209.690  \n",
       "4             178.961  \n",
       "10            154.730  \n",
       "12            147.443  \n",
       "0             132.062  \n",
       "9              84.907  \n",
       "8              47.332  \n",
       "2              46.458  "
      ]
     },
     "execution_count": 389,
     "metadata": {},
     "output_type": "execute_result"
    }
   ],
   "source": [
    "pd.DataFrame({\n",
    "    'NOME_VARIAVEL': modelo_final.feature_names_in_,\n",
    "    'COEF_ESTIMADO': modelo_final.coef_,\n",
    "    'COEF_ESTIMADO_ABS': np.abs(modelo_final.coef_)\n",
    "}).sort_values(by='COEF_ESTIMADO_ABS', ascending=False)"
   ]
  },
  {
   "cell_type": "markdown",
   "metadata": {},
   "source": [
    "### **Etapa 8: Análises adicionais no conjunto de teste externo**"
   ]
  },
  {
   "cell_type": "markdown",
   "metadata": {},
   "source": [
    "*Aplicação do modelo final no conjunto de teste externo*"
   ]
  },
  {
   "cell_type": "code",
   "execution_count": 390,
   "metadata": {},
   "outputs": [],
   "source": [
    "y_hat_teste = modelo_final.predict(X_teste_tratada)"
   ]
  },
  {
   "cell_type": "markdown",
   "metadata": {},
   "source": [
    "*Coeficiente de determinação ajustado (R²)*"
   ]
  },
  {
   "cell_type": "code",
   "execution_count": 391,
   "metadata": {},
   "outputs": [
    {
     "data": {
      "text/plain": [
       "np.float64(0.8262238193596715)"
      ]
     },
     "execution_count": 391,
     "metadata": {},
     "output_type": "execute_result"
    }
   ],
   "source": [
    "r2 = r2_score(y_teste, y_hat_teste)\n",
    "p = np.sum(modelo_final.coef_ != 0)\n",
    "1 - (1 - r2) * (len(y_teste) - 1) / (len(y_teste) - p - 1)"
   ]
  },
  {
   "cell_type": "markdown",
   "metadata": {},
   "source": [
    "*Erro absoluto médio (MAE)*"
   ]
  },
  {
   "cell_type": "code",
   "execution_count": 392,
   "metadata": {},
   "outputs": [
    {
     "data": {
      "text/plain": [
       "np.float64(546.1562234543733)"
      ]
     },
     "execution_count": 392,
     "metadata": {},
     "output_type": "execute_result"
    }
   ],
   "source": [
    "np.mean(np.abs(y_teste - y_hat_teste))"
   ]
  },
  {
   "cell_type": "markdown",
   "metadata": {},
   "source": [
    "*Erro absoluto percentual médio (MAPE)*"
   ]
  },
  {
   "cell_type": "code",
   "execution_count": 393,
   "metadata": {},
   "outputs": [
    {
     "data": {
      "text/plain": [
       "np.float64(inf)"
      ]
     },
     "execution_count": 393,
     "metadata": {},
     "output_type": "execute_result"
    }
   ],
   "source": [
    "np.mean(np.abs((y_teste - y_hat_teste) / y))"
   ]
  },
  {
   "cell_type": "markdown",
   "metadata": {},
   "source": [
    "*Erro quadrático médio em raiz (RMSE)*"
   ]
  },
  {
   "cell_type": "code",
   "execution_count": 394,
   "metadata": {},
   "outputs": [
    {
     "data": {
      "text/plain": [
       "np.float64(733.1534660969104)"
      ]
     },
     "execution_count": 394,
     "metadata": {},
     "output_type": "execute_result"
    }
   ],
   "source": [
    "np.sqrt(np.mean((y_teste - y_hat_teste)**2))"
   ]
  },
  {
   "cell_type": "markdown",
   "metadata": {},
   "source": [
    "*Resíduos do modelo (e)*"
   ]
  },
  {
   "cell_type": "code",
   "execution_count": 395,
   "metadata": {},
   "outputs": [],
   "source": [
    "resid = y_teste - y_hat_teste"
   ]
  },
  {
   "cell_type": "markdown",
   "metadata": {},
   "source": [
    "*Histograma dos resíduos*"
   ]
  },
  {
   "cell_type": "code",
   "execution_count": 396,
   "metadata": {},
   "outputs": [
    {
     "data": {
      "image/png": "[encoded data removed]",
      "text/plain": [
       "<Figure size 640x480 with 1 Axes>"
      ]
     },
     "metadata": {},
     "output_type": "display_data"
    }
   ],
   "source": [
    "sns.histplot(resid,\n",
    "             color=\"darkturquoise\",\n",
    "             edgecolor=\"white\",\n",
    "             kde=True)\n",
    "plt.title(\"Histograma dos Resíduos\")\n",
    "plt.xlabel(\"Resíduos\")\n",
    "plt.ylabel(\"Frequência\")\n",
    "plt.show()"
   ]
  },
  {
   "cell_type": "markdown",
   "metadata": {},
   "source": [
    "*Gráfico de resíduos vs. valores preditos*"
   ]
  },
  {
   "cell_type": "code",
   "execution_count": 397,
   "metadata": {},
   "outputs": [
    {
     "data": {
      "image/png": "[encoded data removed]",
      "text/plain": [
       "<Figure size 640x480 with 1 Axes>"
      ]
     },
     "metadata": {},
     "output_type": "display_data"
    }
   ],
   "source": [
    "plt.scatter(y_hat_teste,\n",
    "            resid,\n",
    "            color=\"darkturquoise\",\n",
    "            alpha=0.4)\n",
    "plt.axhline(0, color='red', linestyle='--')\n",
    "plt.title(\"Resíduos vs. Valores Preditos\")\n",
    "plt.xlabel(\"Valores Preditos\")\n",
    "plt.ylabel(\"Resíduos\")\n",
    "plt.show()"
   ]
  },
  {
   "cell_type": "markdown",
   "metadata": {},
   "source": [
    "*Gráfico de valores observados vs. valores preditos da resposta*"
   ]
  },
  {
   "cell_type": "code",
   "execution_count": 398,
   "metadata": {},
   "outputs": [
    {
     "data": {
      "image/png": "[encoded data removed]",
      "text/plain": [
       "<Figure size 640x480 with 1 Axes>"
      ]
     },
     "metadata": {},
     "output_type": "display_data"
    }
   ],
   "source": [
    "min_eixo = min(y_teste.min(), y_hat_teste.min())\n",
    "max_eixo = max(y_teste.max(), y_hat_teste.max())\n",
    "plt.scatter(y_teste,\n",
    "            y_hat_teste,\n",
    "            color=\"darkturquoise\",\n",
    "            alpha=0.4)\n",
    "plt.plot([min_eixo, max_eixo], [min_eixo, max_eixo], color='red', linestyle='--')\n",
    "plt.title(\"Valores Observados vs. Valores Preditos\")\n",
    "plt.xlabel(\"Valores Observados\")\n",
    "plt.ylabel(\"Valores Preditos\")\n",
    "plt.show()"
   ]
  },
  {
   "cell_type": "markdown",
   "metadata": {},
   "source": [
    "### **Etapa 9: Interpretabilidade do modelo final**"
   ]
  },
  {
   "cell_type": "markdown",
   "metadata": {},
   "source": [
    "*Cálculo da importância individual das variáveis no modelo final, via método de permutação*"
   ]
  },
  {
   "cell_type": "code",
   "execution_count": 399,
   "metadata": {},
   "outputs": [],
   "source": [
    "importancias = permutation_importance(modelo_final,\n",
    "                                      X_treino_tratada,\n",
    "                                      y_treino,\n",
    "                                      n_repeats=30,\n",
    "                                      random_state=0, \n",
    "                                      scoring='neg_root_mean_squared_error')\n",
    "importancias = pd.Series(importancias.importances_mean,\n",
    "                         index=X_treino_tratada.columns).sort_values()"
   ]
  },
  {
   "cell_type": "markdown",
   "metadata": {},
   "source": [
    "*Gráfico de importâncias, via método de permutação*"
   ]
  },
  {
   "cell_type": "code",
   "execution_count": 400,
   "metadata": {},
   "outputs": [
    {
     "data": {
      "image/png": "[encoded data removed]",
      "text/plain": [
       "<Figure size 640x480 with 1 Axes>"
      ]
     },
     "metadata": {},
     "output_type": "display_data"
    }
   ],
   "source": [
    "importancias.plot.barh(title=\"Importância das Variáveis por Permutação\",\n",
    "                       color=\"darkturquoise\")\n",
    "plt.xlabel(\"Impacto Médio no Erro\")\n",
    "plt.tight_layout()\n",
    "plt.show()"
   ]
  },
  {
   "cell_type": "markdown",
   "metadata": {},
   "source": [
    "*Interpretabilidade dos efeitos das variáveis no modelo final, via método SHAP*"
   ]
  },
  {
   "cell_type": "code",
   "execution_count": 401,
   "metadata": {},
   "outputs": [],
   "source": [
    "if nome_algoritmo not in ['ADABOOST']:\n",
    "    explainer = shap.Explainer(modelo_final, X_treino_tratada)\n",
    "    valores_shap = explainer(X_treino_tratada)\n",
    "else:\n",
    "    # Para o AdaBoost, a implementação do cálculo de valores SHAP não é direta; é preciso usar um método computacionalmente oneroso em uma amostra pequena de observações\n",
    "    X_amostra = shap.sample(X_treino_tratada, 100, random_state=123)\n",
    "    explainer = shap.KernelExplainer(modelo_final.predict, X_amostra)\n",
    "    valores_shap = explainer.shap_values(X_amostra)"
   ]
  },
  {
   "cell_type": "markdown",
   "metadata": {},
   "source": [
    "*Gráfico de valores SHAP (beeswarm)*"
   ]
  },
  {
   "cell_type": "code",
   "execution_count": 402,
   "metadata": {},
   "outputs": [
    {
     "data": {
      "image/png": "[encoded data removed]",
      "text/plain": [
       "<Figure size 800x550 with 2 Axes>"
      ]
     },
     "metadata": {},
     "output_type": "display_data"
    }
   ],
   "source": [
    "if nome_algoritmo not in ['ADABOOST']:\n",
    "    shap.plots.beeswarm(valores_shap)\n",
    "else:\n",
    "    shap.summary_plot(valores_shap, X_amostra)"
   ]
  },
  {
   "cell_type": "markdown",
   "metadata": {
    "id": "jVg-t0b6WD8S"
   },
   "source": [
    "### **Etapa 10: Utilização do modelo em nova base de dados**"
   ]
  },
  {
   "cell_type": "markdown",
   "metadata": {},
   "source": [
    "*Leitura da nova base de dados*"
   ]
  },
  {
   "cell_type": "code",
   "execution_count": 403,
   "metadata": {},
   "outputs": [],
   "source": [
    "# Considerando a própria base de construção, mas pode ser substituída por uma nova, se houver\n",
    "dados_novos = pd.read_table(\"Potencial_Novos_Clientes.txt\",\n",
    "                            sep=\"\\t\",\n",
    "                            header=0)"
   ]
  },
  {
   "cell_type": "markdown",
   "metadata": {},
   "source": [
    "*Verificação de compatibilidade de nomes e tipos das variáveis, em relação à base de construção*"
   ]
  },
  {
   "cell_type": "code",
   "execution_count": 404,
   "metadata": {},
   "outputs": [
    {
     "data": {
      "text/plain": [
       "array([ True,  True,  True,  True,  True,  True,  True,  True,  True,\n",
       "        True,  True])"
      ]
     },
     "execution_count": 404,
     "metadata": {},
     "output_type": "execute_result"
    }
   ],
   "source": [
    "# Comparação de nomes\n",
    "dados.columns == dados_novos.columns"
   ]
  },
  {
   "cell_type": "code",
   "execution_count": 405,
   "metadata": {},
   "outputs": [
    {
     "data": {
      "text/plain": [
       "COD_CARTAO                  True\n",
       "IDADE_CLIENTE               True\n",
       "RENDA_MENSAL_CLIENTE        True\n",
       "BEHAVIOUR_SCORE_CLIENTE     True\n",
       "QTD_TRANSACOES_3M           True\n",
       "QTD_ITENS_3M                True\n",
       "VALOR_GASTO_3M              True\n",
       "TICKET_MEDIO_3M             True\n",
       "FLAG_ELETRONICOS_3M         True\n",
       "SATISFACAO_ULTIMA_COMPRA    True\n",
       "VALOR_GASTO_PROX_12M        True\n",
       "dtype: bool"
      ]
     },
     "execution_count": 405,
     "metadata": {},
     "output_type": "execute_result"
    }
   ],
   "source": [
    "# Comparação de tipos\n",
    "dados.dtypes == dados_novos.dtypes"
   ]
  },
  {
   "cell_type": "markdown",
   "metadata": {},
   "source": [
    "*Criação de objetos y e X*"
   ]
  },
  {
   "cell_type": "code",
   "execution_count": 406,
   "metadata": {},
   "outputs": [],
   "source": [
    "y_nova = dados['VALOR_GASTO_PROX_12M']\n",
    "X_nova = dados[lista_X_quanti + lista_X_quali]"
   ]
  },
  {
   "cell_type": "markdown",
   "metadata": {},
   "source": [
    "*Aplicação do pré-processamento e criação de matriz X tratada*"
   ]
  },
  {
   "cell_type": "code",
   "execution_count": 407,
   "metadata": {},
   "outputs": [],
   "source": [
    "X_tratada_nova = preprocessador.transform(X)  # Note que o mesmo objeto de pré-processamento deve ser utilizado, agora com 'transform' em vez de 'fit_transform'\n",
    "X_tratada_nova = pd.DataFrame(X_tratada_nova, columns=nomes_variaveis)"
   ]
  },
  {
   "cell_type": "markdown",
   "metadata": {},
   "source": [
    "*Aplicação do modelo final na nova base de dados*"
   ]
  },
  {
   "cell_type": "code",
   "execution_count": 408,
   "metadata": {
    "colab": {
     "base_uri": "https://localhost:8080/",
     "height": 115
    },
    "executionInfo": {
     "elapsed": 14,
     "status": "ok",
     "timestamp": 1741029592519,
     "user": {
      "displayName": "A. C.",
      "userId": "00912246211498097173"
     },
     "user_tz": 180
    },
    "id": "Xj6tful6W9lv",
    "outputId": "0d8415af-aabf-484f-c5e0-89ac4619ce0d"
   },
   "outputs": [],
   "source": [
    "y_hat_nova = modelo_final.predict(X_tratada_nova)"
   ]
  }
 ],
 "metadata": {
  "colab": {
   "provenance": [
    {
     "file_id": "1EyxfvHmKcdWoUiUi2C7opXDduSzQK3kY",
     "timestamp": 1720925011465
    }
   ]
  },
  "kernelspec": {
   "display_name": "base",
   "language": "python",
   "name": "python3"
  },
  "language_info": {
   "codemirror_mode": {
    "name": "ipython",
    "version": 3
   },
   "file_extension": ".py",
   "mimetype": "text/x-python",
   "name": "python",
   "nbconvert_exporter": "python",
   "pygments_lexer": "ipython3",
   "version": "3.12.7"
  },
  "orig_nbformat": 4
 },
 "nbformat": 4,
 "nbformat_minor": 0
}
