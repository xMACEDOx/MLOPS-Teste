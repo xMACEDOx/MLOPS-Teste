{
 "cells": [
  {
   "cell_type": "code",
   "execution_count": null,
   "id": "87ef03ad",
   "metadata": {},
   "outputs": [],
   "source": [
    "import pandas as pd\n",
    "import numpy as np\n",
    "from sklearn.base import BaseEstimator, TransformerMixin\n",
    "from sklearn.pipeline import Pipeline, FeatureUnion\n",
    "from sklearn.impute import SimpleImputer\n",
    "from sklearn.preprocessing import MinMaxScaler\n",
    "from sklearn.compose import ColumnTransformer \n",
    "from sklearn.preprocessing import OneHotEncoder, StandardScaler "
   ]
  },
  {
   "cell_type": "code",
   "execution_count": null,
   "id": "f3a37264",
   "metadata": {},
   "outputs": [],
   "source": [
    "dados = pd.read_table(\"../datasets/Potencial_Novos_Clientes.txt\",\n",
    "                      sep=\"\\t\",\n",
    "                      header=0)\n",
    "dados.head()"
   ]
  },
  {
   "cell_type": "markdown",
   "id": "981e0f2b",
   "metadata": {},
   "source": [
    "#### Transformer"
   ]
  },
  {
   "cell_type": "code",
   "execution_count": null,
   "id": "def22651",
   "metadata": {},
   "outputs": [],
   "source": [
    "# Podemos criar nossos próprios estimadores e transformers\n",
    "class ColumnSelector(BaseEstimator, TransformerMixin):\n",
    "    '''Seleciona um subset de um dado dataframe a partir de uma lista de colunas'''\n",
    "    def __init__(self, cols_list):\n",
    "        self.cols_list = cols_list\n",
    "        \n",
    "    def fit(self, X, y=None):\n",
    "        return self\n",
    "    \n",
    "    def transform(self, X, y=None):\n",
    "        return X.loc[:, self.cols_list]"
   ]
  },
  {
   "cell_type": "code",
   "execution_count": null,
   "id": "aeabbf62",
   "metadata": {},
   "outputs": [],
   "source": [
    "cols_list_quanti = ['IDADE_CLIENTE',\n",
    "                  'RENDA_MENSAL_CLIENTE',\n",
    "                  'BEHAVIOUR_SCORE_CLIENTE',\n",
    "                  'QTD_TRANSACOES_3M',\n",
    "                  'QTD_ITENS_3M',\n",
    "                  'VALOR_GASTO_3M',\n",
    "                  'TICKET_MEDIO_3M']\n",
    "\n",
    "dados_subset = ColumnSelector(cols_list_quanti)\n",
    "dados_subset.transform(dados).head()\n"
   ]
  },
  {
   "cell_type": "markdown",
   "id": "3863ce55",
   "metadata": {},
   "source": [
    "#### Pipeline"
   ]
  },
  {
   "cell_type": "code",
   "execution_count": null,
   "id": "4da875ac",
   "metadata": {},
   "outputs": [],
   "source": [
    "num_pipe = Pipeline([('get_num_cols', ColumnSelector(cols_list_quanti)),\n",
    "                ('fix_nan', SimpleImputer(missing_values=np.nan, strategy='median')),\n",
    "                ('scale_data', MinMaxScaler())\n",
    "])"
   ]
  },
  {
   "cell_type": "code",
   "execution_count": null,
   "id": "2527068c",
   "metadata": {},
   "outputs": [],
   "source": [
    "dados_transformados = pd.DataFrame(num_pipe.fit_transform(dados))\n",
    "dados_transformados.head()"
   ]
  },
  {
   "cell_type": "markdown",
   "id": "f3b94d49",
   "metadata": {},
   "source": [
    "#### ColumnTransformer"
   ]
  },
  {
   "cell_type": "code",
   "execution_count": null,
   "id": "07583f1b",
   "metadata": {},
   "outputs": [],
   "source": [
    "cols_list_quali= ['FLAG_ELETRONICOS_3M',\n",
    "                 'SATISFACAO_ULTIMA_COMPRA']"
   ]
  },
  {
   "cell_type": "code",
   "execution_count": null,
   "id": "025237d4",
   "metadata": {},
   "outputs": [],
   "source": [
    "FeatureEng = ColumnTransformer(\n",
    "    transformers=[\n",
    "        ('cat_ohe', OneHotEncoder(), cols_list_quali),\n",
    "        ('num_pipe', num_pipe, cols_list_quanti)\n",
    "    ]\n",
    ")\n",
    "pd.DataFrame(FeatureEng.fit_transform(dados))"
   ]
  },
  {
   "cell_type": "markdown",
   "id": "370825e4",
   "metadata": {},
   "source": [
    "#### Como aplicar"
   ]
  },
  {
   "cell_type": "code",
   "execution_count": null,
   "id": "36a48a0f",
   "metadata": {},
   "outputs": [],
   "source": [
    "from sklearn.model_selection import RandomizedSearchCV                                                \n",
    "from sklearn.model_selection import train_test_split\n",
    "from sklearn.linear_model import LinearRegression, Ridge\n",
    "from scipy.stats import loguniform \n",
    "import warnings\n",
    "warnings.filterwarnings('ignore')\n"
   ]
  },
  {
   "cell_type": "code",
   "execution_count": null,
   "id": "1febb71e",
   "metadata": {},
   "outputs": [],
   "source": [
    "lista_X_quanti = ['IDADE_CLIENTE',\n",
    "                  'RENDA_MENSAL_CLIENTE',\n",
    "                  'BEHAVIOUR_SCORE_CLIENTE',\n",
    "                  'QTD_TRANSACOES_3M',\n",
    "                  'QTD_ITENS_3M',\n",
    "                  'VALOR_GASTO_3M',\n",
    "                  'TICKET_MEDIO_3M']\n",
    "\n",
    "lista_X_quali = ['FLAG_ELETRONICOS_3M',\n",
    "                 'SATISFACAO_ULTIMA_COMPRA']"
   ]
  },
  {
   "cell_type": "code",
   "execution_count": null,
   "id": "37b88fc4",
   "metadata": {},
   "outputs": [],
   "source": [
    "y = dados['VALOR_GASTO_PROX_12M']\n",
    "X = dados[lista_X_quanti + lista_X_quali]\n",
    "\n",
    "X_treino, X_teste, y_treino, y_teste = train_test_split(X, y, test_size=0.2, random_state=123)                                                        "
   ]
  },
  {
   "cell_type": "code",
   "execution_count": null,
   "id": "1b0a433f",
   "metadata": {},
   "outputs": [],
   "source": [
    "#X_teste.to_csv(\"X_teste.csv\", index=False)"
   ]
  },
  {
   "cell_type": "code",
   "execution_count": null,
   "id": "31879ef8",
   "metadata": {},
   "outputs": [],
   "source": [
    "class Wrapper(BaseEstimator):\n",
    "    def __init__(self, intermediate_model):                \n",
    "        self.intermediate_model = intermediate_model\n",
    "    def fit(self, X, y=None):                        \n",
    "        return self                                  \n",
    "    def transform(self, X_teste):\n",
    "        return self.intermediate_model.predict(X_teste)"
   ]
  },
  {
   "cell_type": "code",
   "execution_count": null,
   "id": "9ab35a54",
   "metadata": {},
   "outputs": [],
   "source": [
    "preprocessador = ColumnTransformer(transformers=[\n",
    "    (\"quanti\", StandardScaler(), lista_X_quanti),\n",
    "    (\"quali\", OneHotEncoder(\n",
    "        sparse_output=False,drop=\"first\", handle_unknown='ignore'),lista_X_quali)\n",
    "])"
   ]
  },
  {
   "cell_type": "code",
   "execution_count": null,
   "id": "88c15c75",
   "metadata": {},
   "outputs": [],
   "source": [
    "RL = Pipeline([\n",
    "        (\"preprocess\", preprocessador),\n",
    "        (\"linear regression\", RandomizedSearchCV(estimator=LinearRegression(),\n",
    "                  param_distributions={},\n",
    "                  scoring='neg_root_mean_squared_log_error',\n",
    "                  cv=10) )\n",
    "])"
   ]
  },
  {
   "cell_type": "code",
   "execution_count": null,
   "id": "52d4f715",
   "metadata": {},
   "outputs": [],
   "source": [
    "RD =  Pipeline([\n",
    "        (\"preprocess\", preprocessador),\n",
    "        (\"linear regression\", RandomizedSearchCV(estimator=Ridge(),\n",
    "                  param_distributions={'alpha': loguniform(1e-5, 1e1) },\n",
    "                  scoring='neg_root_mean_squared_log_error',\n",
    "                  cv=10) )\n",
    "])"
   ]
  },
  {
   "cell_type": "code",
   "execution_count": null,
   "id": "6c9b2b2a",
   "metadata": {},
   "outputs": [],
   "source": [
    "treino_predict_pipe = FeatureUnion([\n",
    "    ('linear', Wrapper(RL.fit(X_treino, y_treino))),\n",
    "    ('ridge', Wrapper(RD.fit(X_treino, y_treino)))\n",
    "])"
   ]
  },
  {
   "cell_type": "code",
   "execution_count": null,
   "id": "e9a2ab81",
   "metadata": {},
   "outputs": [],
   "source": [
    "y_hat = treino_predict_pipe.fit_transform(X_teste)\n",
    "y_hat[:10]"
   ]
  },
  {
   "cell_type": "code",
   "execution_count": null,
   "id": "839dd2e7",
   "metadata": {},
   "outputs": [],
   "source": [
    "model_select = int(len(y_hat)/2)"
   ]
  },
  {
   "cell_type": "code",
   "execution_count": null,
   "id": "a5dd7d77",
   "metadata": {},
   "outputs": [],
   "source": [
    "from sklearn.metrics import root_mean_squared_error\n",
    "print(root_mean_squared_error(y_teste, y_hat[:model_select]))\n",
    "print(root_mean_squared_error(y_teste, y_hat[model_select:]))"
   ]
  }
 ],
 "metadata": {
  "kernelspec": {
   "display_name": "base",
   "language": "python",
   "name": "python3"
  },
  "language_info": {
   "codemirror_mode": {
    "name": "ipython",
    "version": 3
   },
   "file_extension": ".py",
   "mimetype": "text/x-python",
   "name": "python",
   "nbconvert_exporter": "python",
   "pygments_lexer": "ipython3",
   "version": "3.12.7"
  }
 },
 "nbformat": 4,
 "nbformat_minor": 5
}
