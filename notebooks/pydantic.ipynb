{
 "cells": [
  {
   "cell_type": "code",
   "execution_count": 1,
   "id": "67aa3ccf",
   "metadata": {},
   "outputs": [],
   "source": [
    "import pandas as pd\n",
    "import numpy as np\n",
    "from datetime import datetime, date\n",
    "from pydantic import BaseModel\n",
    "from typing import Dict, List, Optional"
   ]
  },
  {
   "cell_type": "markdown",
   "id": "2f34718d",
   "metadata": {},
   "source": [
    "#### Explicação"
   ]
  },
  {
   "cell_type": "code",
   "execution_count": null,
   "id": "6c5a4e86",
   "metadata": {},
   "outputs": [],
   "source": [
    "class User(BaseModel):\n",
    "    id: int\n",
    "    name: str \n",
    "    age: int\n",
    "    signup_ts: Optional[datetime]"
   ]
  },
  {
   "cell_type": "code",
   "execution_count": null,
   "id": "cfb21aa2",
   "metadata": {},
   "outputs": [],
   "source": [
    "external_data = {\n",
    "    'id': 123,\n",
    "    'name': \"Carolina\", #E se mudarmos para um int?\n",
    "    'age': 56, #E se mudarmos para uma str?\n",
    "    'signup_ts': '2019-06-01 12:22' # E se mudarmos para data ?\n",
    "}\n",
    "\n",
    "User(**external_data)"
   ]
  },
  {
   "cell_type": "markdown",
   "id": "35a710b2",
   "metadata": {},
   "source": [
    "#### Como aplicar"
   ]
  },
  {
   "cell_type": "code",
   "execution_count": null,
   "id": "c3ae7bc1",
   "metadata": {},
   "outputs": [],
   "source": [
    "dados = pd.read_table(\"../datasets/Potencial_Novos_Clientes.txt\",\n",
    "                      sep=\"\\t\",\n",
    "                      header=0)\n",
    "dados.head()"
   ]
  },
  {
   "cell_type": "code",
   "execution_count": null,
   "id": "30af5f02",
   "metadata": {},
   "outputs": [],
   "source": [
    "# Variáveis explicativas quantitativas (deixar vazio [] caso não haja nenhuma)\n",
    "lista_X_quanti = ['IDADE_CLIENTE',\n",
    "                  'RENDA_MENSAL_CLIENTE',\n",
    "                  'BEHAVIOUR_SCORE_CLIENTE',\n",
    "                  'QTD_TRANSACOES_3M',\n",
    "                  'QTD_ITENS_3M',\n",
    "                  'VALOR_GASTO_3M',\n",
    "                  'TICKET_MEDIO_3M']\n",
    "\n",
    "# Variáveis explicativas qualitativas (deixar vazio [] caso não haja nenhuma)\n",
    "lista_X_quali = ['FLAG_ELETRONICOS_3M',\n",
    "                 'SATISFACAO_ULTIMA_COMPRA']"
   ]
  },
  {
   "cell_type": "code",
   "execution_count": null,
   "id": "0a8544f2",
   "metadata": {},
   "outputs": [],
   "source": [
    "X = dados[lista_X_quanti + lista_X_quali]\n",
    "X['FLAG_ELETRONICOS_3M'] = X['FLAG_ELETRONICOS_3M'].to_string()"
   ]
  },
  {
   "cell_type": "code",
   "execution_count": null,
   "id": "74c420a7",
   "metadata": {},
   "outputs": [],
   "source": [
    "class TrainDataSchema(BaseModel):\n",
    "    \"\"\"\n",
    "    Data Input schema\n",
    "    \"\"\"\n",
    "    IDADE_CLIENTE: int\n",
    "    RENDA_MENSAL_CLIENTE: float\n",
    "    BEHAVIOUR_SCORE_CLIENTE: float\n",
    "    QTD_TRANSACOES_3M: float\n",
    "    QTD_ITENS_3M: float\n",
    "    VALOR_GASTO_3M: float\n",
    "    TICKET_MEDIO_3M: float\n",
    "    FLAG_ELETRONICOS_3M: int\n",
    "    SATISFACAO_ULTIMA_COMPRA: str"
   ]
  },
  {
   "cell_type": "code",
   "execution_count": null,
   "id": "3f3264a5",
   "metadata": {},
   "outputs": [],
   "source": [
    "class MultipleDataSchema(BaseModel):\n",
    "    inputs: List[TrainDataSchema]"
   ]
  },
  {
   "cell_type": "code",
   "execution_count": null,
   "id": "d7da157f",
   "metadata": {},
   "outputs": [],
   "source": [
    "MultipleDataSchema(\n",
    "    inputs=X.replace({np.nan: None}).to_dict(orient=\"records\")\n",
    ")"
   ]
  }
 ],
 "metadata": {
  "kernelspec": {
   "display_name": "base",
   "language": "python",
   "name": "python3"
  },
  "language_info": {
   "codemirror_mode": {
    "name": "ipython",
    "version": 3
   },
   "file_extension": ".py",
   "mimetype": "text/x-python",
   "name": "python",
   "nbconvert_exporter": "python",
   "pygments_lexer": "ipython3",
   "version": "3.12.7"
  }
 },
 "nbformat": 4,
 "nbformat_minor": 5
}
