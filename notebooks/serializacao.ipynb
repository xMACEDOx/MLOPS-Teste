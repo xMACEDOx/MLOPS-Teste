{
 "cells": [
  {
   "cell_type": "code",
   "execution_count": null,
   "id": "73599b09",
   "metadata": {},
   "outputs": [],
   "source": [
    "import pandas as pd                                                                                                                                                               \n",
    "from sklearn.compose import ColumnTransformer                                     \n",
    "from sklearn.preprocessing import StandardScaler, OneHotEncoder                                                  \n",
    "from sklearn.model_selection import train_test_split\n",
    "from sklearn.metrics import root_mean_squared_error \n",
    "from sklearn.linear_model import Lasso\n",
    "from scipy.stats import loguniform                               "
   ]
  },
  {
   "cell_type": "code",
   "execution_count": null,
   "id": "147afb14",
   "metadata": {},
   "outputs": [],
   "source": [
    "dados = pd.read_table(\"../datasets/Potencial_Novos_Clientes.txt\",sep=\"\\t\",header=0)"
   ]
  },
  {
   "cell_type": "markdown",
   "id": "454d7d0f",
   "metadata": {},
   "source": [
    "#### Modelo"
   ]
  },
  {
   "cell_type": "code",
   "execution_count": null,
   "id": "54d71b30",
   "metadata": {},
   "outputs": [],
   "source": [
    "# Variáveis explicativas quantitativas (deixar vazio [] caso não haja nenhuma)\n",
    "lista_X_quanti = ['IDADE_CLIENTE',\n",
    "                  'RENDA_MENSAL_CLIENTE',\n",
    "                  'BEHAVIOUR_SCORE_CLIENTE',\n",
    "                  'QTD_TRANSACOES_3M',\n",
    "                  'QTD_ITENS_3M',\n",
    "                  'VALOR_GASTO_3M',\n",
    "                  'TICKET_MEDIO_3M']\n",
    "\n",
    "# Variáveis explicativas qualitativas (deixar vazio [] caso não haja nenhuma)\n",
    "lista_X_quali = ['FLAG_ELETRONICOS_3M',\n",
    "                 'SATISFACAO_ULTIMA_COMPRA']"
   ]
  },
  {
   "cell_type": "code",
   "execution_count": null,
   "id": "284e1de2",
   "metadata": {},
   "outputs": [],
   "source": [
    "y = dados['VALOR_GASTO_PROX_12M']\n",
    "X = dados[lista_X_quanti + lista_X_quali]"
   ]
  },
  {
   "cell_type": "code",
   "execution_count": null,
   "id": "def902b4",
   "metadata": {},
   "outputs": [],
   "source": [
    "X_treino, X_teste, y_treino, y_teste = train_test_split(X, y,\n",
    "                                                        test_size=0.2,\n",
    "                                                        random_state=123)"
   ]
  },
  {
   "cell_type": "code",
   "execution_count": null,
   "id": "9072dd18",
   "metadata": {},
   "outputs": [],
   "source": [
    "preprocessador = ColumnTransformer(transformers=[\n",
    "    (\"quanti\", StandardScaler(), lista_X_quanti),\n",
    "    (\"quali\", OneHotEncoder(sparse_output=False, drop=\"first\", handle_unknown='ignore'), lista_X_quali)\n",
    "])"
   ]
  },
  {
   "cell_type": "code",
   "execution_count": null,
   "id": "72146ba1",
   "metadata": {},
   "outputs": [],
   "source": [
    "X_treino_tratada = preprocessador.fit_transform(X_treino)  # O pré-processamento não deve envolver o conjunto de teste externo, que deve ficar reservado apenas para aplicações de resultados já obtidos, e nunca construções\n",
    "if lista_X_quali:\n",
    "    nomes_quali = list(preprocessador.named_transformers_['quali'].get_feature_names_out(lista_X_quali))\n",
    "else:\n",
    "    nomes_quali = []\n",
    "nomes_variaveis = list(lista_X_quanti) + nomes_quali"
   ]
  },
  {
   "cell_type": "code",
   "execution_count": null,
   "id": "5c4fb639",
   "metadata": {},
   "outputs": [],
   "source": [
    "X_treino_tratada = pd.DataFrame(X_treino_tratada, columns=nomes_variaveis)\n",
    "X_treino_tratada.head()"
   ]
  },
  {
   "cell_type": "code",
   "execution_count": null,
   "id": "e5b83136",
   "metadata": {},
   "outputs": [],
   "source": [
    "X_teste_tratada = preprocessador.transform(X_teste)  # Note que o mesmo objeto de pré-processamento deve ser utilizado, agora com 'transform' em vez de 'fit_transform'\n",
    "X_teste_tratada = pd.DataFrame(X_teste_tratada, columns=nomes_variaveis)\n",
    "X_teste_tratada.head()"
   ]
  },
  {
   "cell_type": "code",
   "execution_count": null,
   "id": "efeebc1f",
   "metadata": {},
   "outputs": [],
   "source": [
    "model = Lasso(random_state=123, max_iter=1000)\n",
    "model.fit(X_treino_tratada, y_treino)\n",
    "y_hat_teste = model.predict(X_teste_tratada)\n",
    "erro = root_mean_squared_error(y_teste, y_hat_teste)"
   ]
  },
  {
   "cell_type": "markdown",
   "id": "dd99796f",
   "metadata": {},
   "source": [
    "#### Serialização"
   ]
  },
  {
   "cell_type": "code",
   "execution_count": null,
   "id": "6f477e6f",
   "metadata": {},
   "outputs": [],
   "source": [
    "import os\n",
    "import pickle\n",
    "import glob\n",
    "from datetime import datetime"
   ]
  },
  {
   "cell_type": "code",
   "execution_count": null,
   "id": "160aa246",
   "metadata": {},
   "outputs": [],
   "source": [
    "model_folder = '../assets/models/trained/'\n",
    "filename = f'model_{datetime.now().date()}.pkl'\n",
    "pickle.dump(model, open(model_folder+filename, 'wb'))"
   ]
  },
  {
   "cell_type": "code",
   "execution_count": null,
   "id": "df7e7d63",
   "metadata": {},
   "outputs": [],
   "source": [
    "models = sorted(\n",
    "    glob.iglob(os.path.join(os.path.dirname(model_folder), '*')),\n",
    "      key=os.path.getctime, reverse=True) \n",
    "print(models)"
   ]
  },
  {
   "cell_type": "code",
   "execution_count": null,
   "id": "af6a510b",
   "metadata": {},
   "outputs": [],
   "source": [
    "load_model = pickle.load(open(models[0], 'rb'))\n",
    "predictions = load_model.predict(X_teste_tratada)\n",
    "predictions"
   ]
  }
 ],
 "metadata": {
  "kernelspec": {
   "display_name": "base",
   "language": "python",
   "name": "python3"
  },
  "language_info": {
   "codemirror_mode": {
    "name": "ipython",
    "version": 3
   },
   "file_extension": ".py",
   "mimetype": "text/x-python",
   "name": "python",
   "nbconvert_exporter": "python",
   "pygments_lexer": "ipython3",
   "version": "3.12.7"
  }
 },
 "nbformat": 4,
 "nbformat_minor": 5
}
